{
 "cells": [
  {
   "cell_type": "code",
   "execution_count": 1,
   "metadata": {
    "ExecuteTime": {
     "end_time": "2020-07-14T07:41:22.859465Z",
     "start_time": "2020-07-14T07:41:20.946466Z"
    }
   },
   "outputs": [],
   "source": [
    "import numpy as np\n",
    "import pandas as pd\n",
    "import matplotlib.pyplot as plt\n",
    "%matplotlib inline"
   ]
  },
  {
   "cell_type": "code",
   "execution_count": 2,
   "metadata": {
    "ExecuteTime": {
     "end_time": "2020-07-14T07:41:23.054464Z",
     "start_time": "2020-07-14T07:41:22.864464Z"
    }
   },
   "outputs": [
    {
     "data": {
      "text/html": [
       "<div>\n",
       "<style scoped>\n",
       "    .dataframe tbody tr th:only-of-type {\n",
       "        vertical-align: middle;\n",
       "    }\n",
       "\n",
       "    .dataframe tbody tr th {\n",
       "        vertical-align: top;\n",
       "    }\n",
       "\n",
       "    .dataframe thead th {\n",
       "        text-align: right;\n",
       "    }\n",
       "</style>\n",
       "<table border=\"1\" class=\"dataframe\">\n",
       "  <thead>\n",
       "    <tr style=\"text-align: right;\">\n",
       "      <th></th>\n",
       "      <th>comments</th>\n",
       "      <th>description</th>\n",
       "      <th>duration</th>\n",
       "      <th>event</th>\n",
       "      <th>film_date</th>\n",
       "      <th>languages</th>\n",
       "      <th>main_speaker</th>\n",
       "      <th>name</th>\n",
       "      <th>num_speaker</th>\n",
       "      <th>published_date</th>\n",
       "      <th>ratings</th>\n",
       "      <th>related_talks</th>\n",
       "      <th>speaker_occupation</th>\n",
       "      <th>tags</th>\n",
       "      <th>title</th>\n",
       "      <th>url</th>\n",
       "      <th>views</th>\n",
       "    </tr>\n",
       "  </thead>\n",
       "  <tbody>\n",
       "    <tr>\n",
       "      <th>0</th>\n",
       "      <td>4553</td>\n",
       "      <td>Sir Ken Robinson makes an entertaining and pro...</td>\n",
       "      <td>1164</td>\n",
       "      <td>TED2006</td>\n",
       "      <td>1140825600</td>\n",
       "      <td>60</td>\n",
       "      <td>Ken Robinson</td>\n",
       "      <td>Ken Robinson: Do schools kill creativity?</td>\n",
       "      <td>1</td>\n",
       "      <td>1151367060</td>\n",
       "      <td>[{'id': 7, 'name': 'Funny', 'count': 19645}, {...</td>\n",
       "      <td>[{'id': 865, 'hero': 'https://pe.tedcdn.com/im...</td>\n",
       "      <td>Author/educator</td>\n",
       "      <td>['children', 'creativity', 'culture', 'dance',...</td>\n",
       "      <td>Do schools kill creativity?</td>\n",
       "      <td>https://www.ted.com/talks/ken_robinson_says_sc...</td>\n",
       "      <td>47227110</td>\n",
       "    </tr>\n",
       "    <tr>\n",
       "      <th>1</th>\n",
       "      <td>265</td>\n",
       "      <td>With the same humor and humanity he exuded in ...</td>\n",
       "      <td>977</td>\n",
       "      <td>TED2006</td>\n",
       "      <td>1140825600</td>\n",
       "      <td>43</td>\n",
       "      <td>Al Gore</td>\n",
       "      <td>Al Gore: Averting the climate crisis</td>\n",
       "      <td>1</td>\n",
       "      <td>1151367060</td>\n",
       "      <td>[{'id': 7, 'name': 'Funny', 'count': 544}, {'i...</td>\n",
       "      <td>[{'id': 243, 'hero': 'https://pe.tedcdn.com/im...</td>\n",
       "      <td>Climate advocate</td>\n",
       "      <td>['alternative energy', 'cars', 'climate change...</td>\n",
       "      <td>Averting the climate crisis</td>\n",
       "      <td>https://www.ted.com/talks/al_gore_on_averting_...</td>\n",
       "      <td>3200520</td>\n",
       "    </tr>\n",
       "    <tr>\n",
       "      <th>2</th>\n",
       "      <td>124</td>\n",
       "      <td>New York Times columnist David Pogue takes aim...</td>\n",
       "      <td>1286</td>\n",
       "      <td>TED2006</td>\n",
       "      <td>1140739200</td>\n",
       "      <td>26</td>\n",
       "      <td>David Pogue</td>\n",
       "      <td>David Pogue: Simplicity sells</td>\n",
       "      <td>1</td>\n",
       "      <td>1151367060</td>\n",
       "      <td>[{'id': 7, 'name': 'Funny', 'count': 964}, {'i...</td>\n",
       "      <td>[{'id': 1725, 'hero': 'https://pe.tedcdn.com/i...</td>\n",
       "      <td>Technology columnist</td>\n",
       "      <td>['computers', 'entertainment', 'interface desi...</td>\n",
       "      <td>Simplicity sells</td>\n",
       "      <td>https://www.ted.com/talks/david_pogue_says_sim...</td>\n",
       "      <td>1636292</td>\n",
       "    </tr>\n",
       "    <tr>\n",
       "      <th>3</th>\n",
       "      <td>200</td>\n",
       "      <td>In an emotionally charged talk, MacArthur-winn...</td>\n",
       "      <td>1116</td>\n",
       "      <td>TED2006</td>\n",
       "      <td>1140912000</td>\n",
       "      <td>35</td>\n",
       "      <td>Majora Carter</td>\n",
       "      <td>Majora Carter: Greening the ghetto</td>\n",
       "      <td>1</td>\n",
       "      <td>1151367060</td>\n",
       "      <td>[{'id': 3, 'name': 'Courageous', 'count': 760}...</td>\n",
       "      <td>[{'id': 1041, 'hero': 'https://pe.tedcdn.com/i...</td>\n",
       "      <td>Activist for environmental justice</td>\n",
       "      <td>['MacArthur grant', 'activism', 'business', 'c...</td>\n",
       "      <td>Greening the ghetto</td>\n",
       "      <td>https://www.ted.com/talks/majora_carter_s_tale...</td>\n",
       "      <td>1697550</td>\n",
       "    </tr>\n",
       "    <tr>\n",
       "      <th>4</th>\n",
       "      <td>593</td>\n",
       "      <td>You've never seen data presented like this. Wi...</td>\n",
       "      <td>1190</td>\n",
       "      <td>TED2006</td>\n",
       "      <td>1140566400</td>\n",
       "      <td>48</td>\n",
       "      <td>Hans Rosling</td>\n",
       "      <td>Hans Rosling: The best stats you've ever seen</td>\n",
       "      <td>1</td>\n",
       "      <td>1151440680</td>\n",
       "      <td>[{'id': 9, 'name': 'Ingenious', 'count': 3202}...</td>\n",
       "      <td>[{'id': 2056, 'hero': 'https://pe.tedcdn.com/i...</td>\n",
       "      <td>Global health expert; data visionary</td>\n",
       "      <td>['Africa', 'Asia', 'Google', 'demo', 'economic...</td>\n",
       "      <td>The best stats you've ever seen</td>\n",
       "      <td>https://www.ted.com/talks/hans_rosling_shows_t...</td>\n",
       "      <td>12005869</td>\n",
       "    </tr>\n",
       "  </tbody>\n",
       "</table>\n",
       "</div>"
      ],
      "text/plain": [
       "   comments                                        description  duration  \\\n",
       "0      4553  Sir Ken Robinson makes an entertaining and pro...      1164   \n",
       "1       265  With the same humor and humanity he exuded in ...       977   \n",
       "2       124  New York Times columnist David Pogue takes aim...      1286   \n",
       "3       200  In an emotionally charged talk, MacArthur-winn...      1116   \n",
       "4       593  You've never seen data presented like this. Wi...      1190   \n",
       "\n",
       "     event   film_date  languages   main_speaker  \\\n",
       "0  TED2006  1140825600         60   Ken Robinson   \n",
       "1  TED2006  1140825600         43        Al Gore   \n",
       "2  TED2006  1140739200         26    David Pogue   \n",
       "3  TED2006  1140912000         35  Majora Carter   \n",
       "4  TED2006  1140566400         48   Hans Rosling   \n",
       "\n",
       "                                            name  num_speaker  published_date  \\\n",
       "0      Ken Robinson: Do schools kill creativity?            1      1151367060   \n",
       "1           Al Gore: Averting the climate crisis            1      1151367060   \n",
       "2                  David Pogue: Simplicity sells            1      1151367060   \n",
       "3             Majora Carter: Greening the ghetto            1      1151367060   \n",
       "4  Hans Rosling: The best stats you've ever seen            1      1151440680   \n",
       "\n",
       "                                             ratings  \\\n",
       "0  [{'id': 7, 'name': 'Funny', 'count': 19645}, {...   \n",
       "1  [{'id': 7, 'name': 'Funny', 'count': 544}, {'i...   \n",
       "2  [{'id': 7, 'name': 'Funny', 'count': 964}, {'i...   \n",
       "3  [{'id': 3, 'name': 'Courageous', 'count': 760}...   \n",
       "4  [{'id': 9, 'name': 'Ingenious', 'count': 3202}...   \n",
       "\n",
       "                                       related_talks  \\\n",
       "0  [{'id': 865, 'hero': 'https://pe.tedcdn.com/im...   \n",
       "1  [{'id': 243, 'hero': 'https://pe.tedcdn.com/im...   \n",
       "2  [{'id': 1725, 'hero': 'https://pe.tedcdn.com/i...   \n",
       "3  [{'id': 1041, 'hero': 'https://pe.tedcdn.com/i...   \n",
       "4  [{'id': 2056, 'hero': 'https://pe.tedcdn.com/i...   \n",
       "\n",
       "                     speaker_occupation  \\\n",
       "0                       Author/educator   \n",
       "1                      Climate advocate   \n",
       "2                  Technology columnist   \n",
       "3    Activist for environmental justice   \n",
       "4  Global health expert; data visionary   \n",
       "\n",
       "                                                tags  \\\n",
       "0  ['children', 'creativity', 'culture', 'dance',...   \n",
       "1  ['alternative energy', 'cars', 'climate change...   \n",
       "2  ['computers', 'entertainment', 'interface desi...   \n",
       "3  ['MacArthur grant', 'activism', 'business', 'c...   \n",
       "4  ['Africa', 'Asia', 'Google', 'demo', 'economic...   \n",
       "\n",
       "                             title  \\\n",
       "0      Do schools kill creativity?   \n",
       "1      Averting the climate crisis   \n",
       "2                 Simplicity sells   \n",
       "3              Greening the ghetto   \n",
       "4  The best stats you've ever seen   \n",
       "\n",
       "                                                 url     views  \n",
       "0  https://www.ted.com/talks/ken_robinson_says_sc...  47227110  \n",
       "1  https://www.ted.com/talks/al_gore_on_averting_...   3200520  \n",
       "2  https://www.ted.com/talks/david_pogue_says_sim...   1636292  \n",
       "3  https://www.ted.com/talks/majora_carter_s_tale...   1697550  \n",
       "4  https://www.ted.com/talks/hans_rosling_shows_t...  12005869  "
      ]
     },
     "execution_count": 2,
     "metadata": {},
     "output_type": "execute_result"
    }
   ],
   "source": [
    "data = pd.read_csv('data/raw/ted_main.csv')\n",
    "data.head()"
   ]
  },
  {
   "cell_type": "markdown",
   "metadata": {},
   "source": [
    "## Data cleaning"
   ]
  },
  {
   "cell_type": "code",
   "execution_count": 3,
   "metadata": {
    "ExecuteTime": {
     "end_time": "2020-07-14T07:41:23.093469Z",
     "start_time": "2020-07-14T07:41:23.062467Z"
    }
   },
   "outputs": [
    {
     "data": {
      "text/plain": [
       "comments              0\n",
       "description           0\n",
       "duration              0\n",
       "event                 0\n",
       "film_date             0\n",
       "languages             0\n",
       "main_speaker          0\n",
       "name                  0\n",
       "num_speaker           0\n",
       "published_date        0\n",
       "ratings               0\n",
       "related_talks         0\n",
       "speaker_occupation    6\n",
       "tags                  0\n",
       "title                 0\n",
       "url                   0\n",
       "views                 0\n",
       "dtype: int64"
      ]
     },
     "execution_count": 3,
     "metadata": {},
     "output_type": "execute_result"
    }
   ],
   "source": [
    "# check null values\n",
    "data.isnull().sum(axis=0)"
   ]
  },
  {
   "cell_type": "code",
   "execution_count": 4,
   "metadata": {
    "ExecuteTime": {
     "end_time": "2020-07-14T07:41:23.119474Z",
     "start_time": "2020-07-14T07:41:23.099472Z"
    }
   },
   "outputs": [
    {
     "data": {
      "text/plain": [
       "0"
      ]
     },
     "execution_count": 4,
     "metadata": {},
     "output_type": "execute_result"
    }
   ],
   "source": [
    "# some speakers' occupation is not recorded --> change to unknown\n",
    "data.speaker_occupation.fillna('Unknown',inplace=True)\n",
    "data.speaker_occupation.isnull().sum()"
   ]
  },
  {
   "cell_type": "code",
   "execution_count": 5,
   "metadata": {
    "ExecuteTime": {
     "end_time": "2020-07-14T07:41:23.147469Z",
     "start_time": "2020-07-14T07:41:23.131468Z"
    }
   },
   "outputs": [],
   "source": [
    "# convert datetime\n",
    "data.published_date = pd.to_datetime(data.published_date,unit='s')\n",
    "data.film_date = pd.to_datetime(data.film_date,unit='s')"
   ]
  },
  {
   "cell_type": "code",
   "execution_count": 6,
   "metadata": {
    "ExecuteTime": {
     "end_time": "2020-07-14T07:41:23.230467Z",
     "start_time": "2020-07-14T07:41:23.183469Z"
    }
   },
   "outputs": [],
   "source": [
    "# convert duration to minutes\n",
    "\n",
    "data['duration'] = round(data['duration']/60,2)"
   ]
  },
  {
   "cell_type": "markdown",
   "metadata": {},
   "source": [
    "## Rating Analysis"
   ]
  },
  {
   "cell_type": "markdown",
   "metadata": {},
   "source": [
    "### Create Rating_df"
   ]
  },
  {
   "cell_type": "code",
   "execution_count": 7,
   "metadata": {
    "ExecuteTime": {
     "end_time": "2020-07-14T07:41:23.272984Z",
     "start_time": "2020-07-14T07:41:23.244467Z"
    }
   },
   "outputs": [
    {
     "data": {
      "text/plain": [
       "0    [{'id': 7, 'name': 'Funny', 'count': 19645}, {...\n",
       "1    [{'id': 7, 'name': 'Funny', 'count': 544}, {'i...\n",
       "2    [{'id': 7, 'name': 'Funny', 'count': 964}, {'i...\n",
       "3    [{'id': 3, 'name': 'Courageous', 'count': 760}...\n",
       "4    [{'id': 9, 'name': 'Ingenious', 'count': 3202}...\n",
       "Name: ratings, dtype: object"
      ]
     },
     "execution_count": 7,
     "metadata": {},
     "output_type": "execute_result"
    }
   ],
   "source": [
    "import ast\n",
    "data.ratings[:5]"
   ]
  },
  {
   "cell_type": "code",
   "execution_count": 8,
   "metadata": {
    "ExecuteTime": {
     "end_time": "2020-07-14T07:41:24.280006Z",
     "start_time": "2020-07-14T07:41:23.283987Z"
    }
   },
   "outputs": [],
   "source": [
    "# convert the string to the list with dict\n",
    "data.ratings = data.ratings.map(ast.literal_eval)"
   ]
  },
  {
   "cell_type": "code",
   "execution_count": 9,
   "metadata": {
    "ExecuteTime": {
     "end_time": "2020-07-14T07:41:24.351009Z",
     "start_time": "2020-07-14T07:41:24.287007Z"
    },
    "scrolled": true
   },
   "outputs": [
    {
     "data": {
      "text/plain": [
       "{'Beautiful',\n",
       " 'Confusing',\n",
       " 'Courageous',\n",
       " 'Fascinating',\n",
       " 'Funny',\n",
       " 'Informative',\n",
       " 'Ingenious',\n",
       " 'Inspiring',\n",
       " 'Jaw-dropping',\n",
       " 'Longwinded',\n",
       " 'OK',\n",
       " 'Obnoxious',\n",
       " 'Persuasive',\n",
       " 'Unconvincing'}"
      ]
     },
     "execution_count": 9,
     "metadata": {},
     "output_type": "execute_result"
    }
   ],
   "source": [
    "# check all rating attributes\n",
    "rating_attr = set()\n",
    "for rating in data.ratings:\n",
    "    rating_attr = rating_attr | set([r['name'] for r in rating])\n",
    "rating_attr"
   ]
  },
  {
   "cell_type": "code",
   "execution_count": 10,
   "metadata": {
    "ExecuteTime": {
     "end_time": "2020-07-14T07:41:24.399007Z",
     "start_time": "2020-07-14T07:41:24.362009Z"
    }
   },
   "outputs": [],
   "source": [
    "# create a rating df\n",
    "rating_dict = {attr:[] for attr in rating_attr}\n",
    "for rating in data.ratings:\n",
    "    for r in rating:\n",
    "        rating_dict[r['name']].append(r['count'])"
   ]
  },
  {
   "cell_type": "code",
   "execution_count": 11,
   "metadata": {
    "ExecuteTime": {
     "end_time": "2020-07-14T07:41:24.446007Z",
     "start_time": "2020-07-14T07:41:24.414011Z"
    }
   },
   "outputs": [],
   "source": [
    "# put in a df\n",
    "rating_df = pd.DataFrame.from_dict(rating_dict)"
   ]
  },
  {
   "cell_type": "code",
   "execution_count": 12,
   "metadata": {
    "ExecuteTime": {
     "end_time": "2020-07-14T07:41:24.502005Z",
     "start_time": "2020-07-14T07:41:24.465011Z"
    }
   },
   "outputs": [],
   "source": [
    "# add URL as the identifier\n",
    "rating_df['url'] = data['url']"
   ]
  },
  {
   "cell_type": "code",
   "execution_count": 13,
   "metadata": {
    "ExecuteTime": {
     "end_time": "2020-07-14T07:41:24.577009Z",
     "start_time": "2020-07-14T07:41:24.531014Z"
    }
   },
   "outputs": [
    {
     "data": {
      "text/html": [
       "<div>\n",
       "<style scoped>\n",
       "    .dataframe tbody tr th:only-of-type {\n",
       "        vertical-align: middle;\n",
       "    }\n",
       "\n",
       "    .dataframe tbody tr th {\n",
       "        vertical-align: top;\n",
       "    }\n",
       "\n",
       "    .dataframe thead th {\n",
       "        text-align: right;\n",
       "    }\n",
       "</style>\n",
       "<table border=\"1\" class=\"dataframe\">\n",
       "  <thead>\n",
       "    <tr style=\"text-align: right;\">\n",
       "      <th></th>\n",
       "      <th>OK</th>\n",
       "      <th>Funny</th>\n",
       "      <th>Ingenious</th>\n",
       "      <th>Longwinded</th>\n",
       "      <th>Persuasive</th>\n",
       "      <th>Courageous</th>\n",
       "      <th>Jaw-dropping</th>\n",
       "      <th>Unconvincing</th>\n",
       "      <th>Inspiring</th>\n",
       "      <th>Informative</th>\n",
       "      <th>Fascinating</th>\n",
       "      <th>Beautiful</th>\n",
       "      <th>Obnoxious</th>\n",
       "      <th>Confusing</th>\n",
       "      <th>url</th>\n",
       "    </tr>\n",
       "  </thead>\n",
       "  <tbody>\n",
       "    <tr>\n",
       "      <th>0</th>\n",
       "      <td>1174</td>\n",
       "      <td>19645</td>\n",
       "      <td>6073</td>\n",
       "      <td>387</td>\n",
       "      <td>10704</td>\n",
       "      <td>3253</td>\n",
       "      <td>4439</td>\n",
       "      <td>300</td>\n",
       "      <td>24924</td>\n",
       "      <td>7346</td>\n",
       "      <td>10581</td>\n",
       "      <td>4573</td>\n",
       "      <td>209</td>\n",
       "      <td>242</td>\n",
       "      <td>https://www.ted.com/talks/ken_robinson_says_sc...</td>\n",
       "    </tr>\n",
       "    <tr>\n",
       "      <th>1</th>\n",
       "      <td>203</td>\n",
       "      <td>544</td>\n",
       "      <td>56</td>\n",
       "      <td>113</td>\n",
       "      <td>268</td>\n",
       "      <td>139</td>\n",
       "      <td>116</td>\n",
       "      <td>258</td>\n",
       "      <td>413</td>\n",
       "      <td>443</td>\n",
       "      <td>132</td>\n",
       "      <td>58</td>\n",
       "      <td>131</td>\n",
       "      <td>62</td>\n",
       "      <td>https://www.ted.com/talks/al_gore_on_averting_...</td>\n",
       "    </tr>\n",
       "    <tr>\n",
       "      <th>2</th>\n",
       "      <td>146</td>\n",
       "      <td>964</td>\n",
       "      <td>183</td>\n",
       "      <td>78</td>\n",
       "      <td>230</td>\n",
       "      <td>45</td>\n",
       "      <td>54</td>\n",
       "      <td>104</td>\n",
       "      <td>230</td>\n",
       "      <td>395</td>\n",
       "      <td>166</td>\n",
       "      <td>60</td>\n",
       "      <td>142</td>\n",
       "      <td>27</td>\n",
       "      <td>https://www.ted.com/talks/david_pogue_says_sim...</td>\n",
       "    </tr>\n",
       "    <tr>\n",
       "      <th>3</th>\n",
       "      <td>85</td>\n",
       "      <td>59</td>\n",
       "      <td>105</td>\n",
       "      <td>53</td>\n",
       "      <td>460</td>\n",
       "      <td>760</td>\n",
       "      <td>230</td>\n",
       "      <td>36</td>\n",
       "      <td>1070</td>\n",
       "      <td>380</td>\n",
       "      <td>132</td>\n",
       "      <td>291</td>\n",
       "      <td>35</td>\n",
       "      <td>32</td>\n",
       "      <td>https://www.ted.com/talks/majora_carter_s_tale...</td>\n",
       "    </tr>\n",
       "    <tr>\n",
       "      <th>4</th>\n",
       "      <td>248</td>\n",
       "      <td>1390</td>\n",
       "      <td>3202</td>\n",
       "      <td>110</td>\n",
       "      <td>2542</td>\n",
       "      <td>318</td>\n",
       "      <td>3736</td>\n",
       "      <td>67</td>\n",
       "      <td>2893</td>\n",
       "      <td>5433</td>\n",
       "      <td>4606</td>\n",
       "      <td>942</td>\n",
       "      <td>61</td>\n",
       "      <td>72</td>\n",
       "      <td>https://www.ted.com/talks/hans_rosling_shows_t...</td>\n",
       "    </tr>\n",
       "  </tbody>\n",
       "</table>\n",
       "</div>"
      ],
      "text/plain": [
       "     OK  Funny  Ingenious  Longwinded  Persuasive  Courageous  Jaw-dropping  \\\n",
       "0  1174  19645       6073         387       10704        3253          4439   \n",
       "1   203    544         56         113         268         139           116   \n",
       "2   146    964        183          78         230          45            54   \n",
       "3    85     59        105          53         460         760           230   \n",
       "4   248   1390       3202         110        2542         318          3736   \n",
       "\n",
       "   Unconvincing  Inspiring  Informative  Fascinating  Beautiful  Obnoxious  \\\n",
       "0           300      24924         7346        10581       4573        209   \n",
       "1           258        413          443          132         58        131   \n",
       "2           104        230          395          166         60        142   \n",
       "3            36       1070          380          132        291         35   \n",
       "4            67       2893         5433         4606        942         61   \n",
       "\n",
       "   Confusing                                                url  \n",
       "0        242  https://www.ted.com/talks/ken_robinson_says_sc...  \n",
       "1         62  https://www.ted.com/talks/al_gore_on_averting_...  \n",
       "2         27  https://www.ted.com/talks/david_pogue_says_sim...  \n",
       "3         32  https://www.ted.com/talks/majora_carter_s_tale...  \n",
       "4         72  https://www.ted.com/talks/hans_rosling_shows_t...  "
      ]
     },
     "execution_count": 13,
     "metadata": {},
     "output_type": "execute_result"
    }
   ],
   "source": [
    "rating_df.head()"
   ]
  },
  {
   "cell_type": "code",
   "execution_count": 14,
   "metadata": {
    "ExecuteTime": {
     "end_time": "2020-07-14T07:41:24.700005Z",
     "start_time": "2020-07-14T07:41:24.597009Z"
    }
   },
   "outputs": [],
   "source": [
    "rating_df.to_csv('data/output/rating_df.csv',index=False)"
   ]
  },
  {
   "cell_type": "markdown",
   "metadata": {},
   "source": [
    "### Create rating_ratio_df"
   ]
  },
  {
   "cell_type": "code",
   "execution_count": 15,
   "metadata": {
    "ExecuteTime": {
     "end_time": "2020-07-14T07:41:24.755006Z",
     "start_time": "2020-07-14T07:41:24.718006Z"
    }
   },
   "outputs": [],
   "source": [
    "rating_ratio_df = rating_df.iloc[:,:-1].div(rating_df.sum(axis=1),axis='rows')"
   ]
  },
  {
   "cell_type": "code",
   "execution_count": 16,
   "metadata": {
    "ExecuteTime": {
     "end_time": "2020-07-14T07:41:24.799548Z",
     "start_time": "2020-07-14T07:41:24.772006Z"
    }
   },
   "outputs": [],
   "source": [
    "rating_ratio_df['url'] = data['url']"
   ]
  },
  {
   "cell_type": "code",
   "execution_count": 17,
   "metadata": {
    "ExecuteTime": {
     "end_time": "2020-07-14T07:41:24.987543Z",
     "start_time": "2020-07-14T07:41:24.815543Z"
    }
   },
   "outputs": [],
   "source": [
    "rating_ratio_df.to_csv('data/output/rating_ratio_df.csv',index=False)"
   ]
  },
  {
   "cell_type": "markdown",
   "metadata": {},
   "source": [
    "### Analysis"
   ]
  },
  {
   "cell_type": "code",
   "execution_count": 18,
   "metadata": {
    "ExecuteTime": {
     "end_time": "2020-07-14T07:41:26.311547Z",
     "start_time": "2020-07-14T07:41:25.004547Z"
    }
   },
   "outputs": [],
   "source": [
    "import seaborn as sns"
   ]
  },
  {
   "cell_type": "markdown",
   "metadata": {
    "heading_collapsed": true
   },
   "source": [
    "#### Highest rating analysis\n",
    "\n",
    "><b>Analysis:</b><br>\n",
    "    From the results below, most talks are rated as Inspiring, followed by Informative and Fascinating. It is not surprising as the slogan of TED Talks is \"ideas worth spreading\", and the audience find the ideas conveyed in the talks inspiring, and find the talks informative and fascinating.<br><br>\n",
    "    Moreover, the negative attributes, such as Obnoxious and Confusing, have the least number talks with them being the hightest rating. It shows that the quality of the TED Talks remain high throughout the years.  "
   ]
  },
  {
   "cell_type": "code",
   "execution_count": 19,
   "metadata": {
    "ExecuteTime": {
     "end_time": "2020-07-14T07:41:26.367544Z",
     "start_time": "2020-07-14T07:41:26.323545Z"
    },
    "hidden": true
   },
   "outputs": [
    {
     "data": {
      "text/plain": [
       "Inspiring       878\n",
       "Informative     724\n",
       "Fascinating     262\n",
       "Funny           163\n",
       "Beautiful       153\n",
       "Ingenious       103\n",
       "Courageous       85\n",
       "Persuasive       83\n",
       "Jaw-dropping     54\n",
       "Unconvincing     24\n",
       "Longwinded        8\n",
       "OK                7\n",
       "Obnoxious         4\n",
       "Confusing         2\n",
       "Name: rating, dtype: int64"
      ]
     },
     "execution_count": 19,
     "metadata": {},
     "output_type": "execute_result"
    }
   ],
   "source": [
    "# obtain the rating attribute with the most counts for each talk\n",
    "# check the number of talks for each attribute \n",
    "\n",
    "highest_rating= rating_ratio_df.drop(['url'],axis=1).idxmax(axis=1).to_frame()\n",
    "highest_rating.columns=['rating']\n",
    "highest_rating['rating'].value_counts()"
   ]
  },
  {
   "cell_type": "markdown",
   "metadata": {
    "heading_collapsed": true
   },
   "source": [
    "#### Correlation analysis between ratings, comments, views, duration\n",
    "The correlation results are shown on Tableau dashboard\n",
    "\n",
    "><b>Analysis:</b><ul>\n",
    "    <li>The abosolute correlation strengths among the factors are low, with the maximum absolute value of 0.5496.</li><li>However, from the dashboard, it can be observed that the negative attributes have relatively high positive correlation with each other, such as 0.5496 between Unconvincing and Obnoxious and 0.4991 between Longwinded and Confusion. </li><li>Most positve rating attributes do not exhibit similar behaviours. On the flip side, some of the positive ones actually shows negative correlations, such as -0.5204 between Informative and Beautiful and -0.4960 between Courageous and Fascinating. It is not such a surprise as TED Talks contain performances, such as musical performances and live events, where audience enjoy and find them Beautiful but cannot gain much information out of them. Courageous talks may involve real-life examples, such as people with disability striving for success, and such examples do not fall under the Fascinating category.</li><li>Another finding within our expectation is that the number of comments of a talk has a positive correlation with the number of views of the talk. It is understandable that the more views the talk has, the higher chance audience will leave comments</li><li>The hypothesis that audience tend to find talks with longer duration longwinded is not really true as the correlation value is very small of 0.2670 depsite the postive correlation.</li></ul>\n"
   ]
  },
  {
   "cell_type": "code",
   "execution_count": 20,
   "metadata": {
    "ExecuteTime": {
     "end_time": "2020-07-14T07:41:26.489664Z",
     "start_time": "2020-07-14T07:41:26.389543Z"
    },
    "hidden": true,
    "scrolled": false
   },
   "outputs": [
    {
     "data": {
      "text/html": [
       "<div>\n",
       "<style scoped>\n",
       "    .dataframe tbody tr th:only-of-type {\n",
       "        vertical-align: middle;\n",
       "    }\n",
       "\n",
       "    .dataframe tbody tr th {\n",
       "        vertical-align: top;\n",
       "    }\n",
       "\n",
       "    .dataframe thead th {\n",
       "        text-align: right;\n",
       "    }\n",
       "</style>\n",
       "<table border=\"1\" class=\"dataframe\">\n",
       "  <thead>\n",
       "    <tr style=\"text-align: right;\">\n",
       "      <th></th>\n",
       "      <th>OK</th>\n",
       "      <th>Funny</th>\n",
       "      <th>Ingenious</th>\n",
       "      <th>Longwinded</th>\n",
       "      <th>Persuasive</th>\n",
       "      <th>Courageous</th>\n",
       "      <th>Jaw-dropping</th>\n",
       "      <th>Unconvincing</th>\n",
       "      <th>Inspiring</th>\n",
       "      <th>Informative</th>\n",
       "      <th>Fascinating</th>\n",
       "      <th>Beautiful</th>\n",
       "      <th>Obnoxious</th>\n",
       "      <th>Confusing</th>\n",
       "      <th>duration</th>\n",
       "      <th>views</th>\n",
       "      <th>comments</th>\n",
       "    </tr>\n",
       "  </thead>\n",
       "  <tbody>\n",
       "    <tr>\n",
       "      <th>OK</th>\n",
       "      <td>1.000000</td>\n",
       "      <td>0.089813</td>\n",
       "      <td>-0.077996</td>\n",
       "      <td>0.443729</td>\n",
       "      <td>-0.117632</td>\n",
       "      <td>-0.266398</td>\n",
       "      <td>-0.268548</td>\n",
       "      <td>0.488834</td>\n",
       "      <td>-0.339784</td>\n",
       "      <td>0.104459</td>\n",
       "      <td>-0.104162</td>\n",
       "      <td>-0.075261</td>\n",
       "      <td>0.331569</td>\n",
       "      <td>0.440635</td>\n",
       "      <td>-0.280489</td>\n",
       "      <td>-0.151895</td>\n",
       "      <td>-0.169255</td>\n",
       "    </tr>\n",
       "    <tr>\n",
       "      <th>Funny</th>\n",
       "      <td>0.089813</td>\n",
       "      <td>1.000000</td>\n",
       "      <td>0.060350</td>\n",
       "      <td>-0.016236</td>\n",
       "      <td>-0.223624</td>\n",
       "      <td>-0.176752</td>\n",
       "      <td>-0.112525</td>\n",
       "      <td>-0.053414</td>\n",
       "      <td>-0.238523</td>\n",
       "      <td>-0.227136</td>\n",
       "      <td>-0.084420</td>\n",
       "      <td>-0.074888</td>\n",
       "      <td>0.145939</td>\n",
       "      <td>0.047643</td>\n",
       "      <td>-0.069600</td>\n",
       "      <td>0.136401</td>\n",
       "      <td>-0.002302</td>\n",
       "    </tr>\n",
       "    <tr>\n",
       "      <th>Ingenious</th>\n",
       "      <td>-0.077996</td>\n",
       "      <td>0.060350</td>\n",
       "      <td>1.000000</td>\n",
       "      <td>-0.107649</td>\n",
       "      <td>-0.240914</td>\n",
       "      <td>-0.371547</td>\n",
       "      <td>0.247281</td>\n",
       "      <td>-0.099266</td>\n",
       "      <td>-0.211367</td>\n",
       "      <td>-0.116660</td>\n",
       "      <td>0.312264</td>\n",
       "      <td>-0.196432</td>\n",
       "      <td>-0.105614</td>\n",
       "      <td>-0.029753</td>\n",
       "      <td>-0.152334</td>\n",
       "      <td>-0.049897</td>\n",
       "      <td>-0.053840</td>\n",
       "    </tr>\n",
       "    <tr>\n",
       "      <th>Longwinded</th>\n",
       "      <td>0.443729</td>\n",
       "      <td>-0.016236</td>\n",
       "      <td>-0.107649</td>\n",
       "      <td>1.000000</td>\n",
       "      <td>-0.040310</td>\n",
       "      <td>-0.170905</td>\n",
       "      <td>-0.167425</td>\n",
       "      <td>0.437599</td>\n",
       "      <td>-0.224527</td>\n",
       "      <td>0.003391</td>\n",
       "      <td>-0.095949</td>\n",
       "      <td>-0.108853</td>\n",
       "      <td>0.393327</td>\n",
       "      <td>0.499069</td>\n",
       "      <td>0.266753</td>\n",
       "      <td>-0.156965</td>\n",
       "      <td>-0.087733</td>\n",
       "    </tr>\n",
       "    <tr>\n",
       "      <th>Persuasive</th>\n",
       "      <td>-0.117632</td>\n",
       "      <td>-0.223624</td>\n",
       "      <td>-0.240914</td>\n",
       "      <td>-0.040310</td>\n",
       "      <td>1.000000</td>\n",
       "      <td>0.068895</td>\n",
       "      <td>-0.262366</td>\n",
       "      <td>0.070697</td>\n",
       "      <td>0.066006</td>\n",
       "      <td>0.388892</td>\n",
       "      <td>-0.357041</td>\n",
       "      <td>-0.425953</td>\n",
       "      <td>-0.074140</td>\n",
       "      <td>-0.106833</td>\n",
       "      <td>0.141589</td>\n",
       "      <td>-0.012586</td>\n",
       "      <td>0.183236</td>\n",
       "    </tr>\n",
       "  </tbody>\n",
       "</table>\n",
       "</div>"
      ],
      "text/plain": [
       "                  OK     Funny  Ingenious  Longwinded  Persuasive  Courageous  \\\n",
       "OK          1.000000  0.089813  -0.077996    0.443729   -0.117632   -0.266398   \n",
       "Funny       0.089813  1.000000   0.060350   -0.016236   -0.223624   -0.176752   \n",
       "Ingenious  -0.077996  0.060350   1.000000   -0.107649   -0.240914   -0.371547   \n",
       "Longwinded  0.443729 -0.016236  -0.107649    1.000000   -0.040310   -0.170905   \n",
       "Persuasive -0.117632 -0.223624  -0.240914   -0.040310    1.000000    0.068895   \n",
       "\n",
       "            Jaw-dropping  Unconvincing  Inspiring  Informative  Fascinating  \\\n",
       "OK             -0.268548      0.488834  -0.339784     0.104459    -0.104162   \n",
       "Funny          -0.112525     -0.053414  -0.238523    -0.227136    -0.084420   \n",
       "Ingenious       0.247281     -0.099266  -0.211367    -0.116660     0.312264   \n",
       "Longwinded     -0.167425      0.437599  -0.224527     0.003391    -0.095949   \n",
       "Persuasive     -0.262366      0.070697   0.066006     0.388892    -0.357041   \n",
       "\n",
       "            Beautiful  Obnoxious  Confusing  duration     views  comments  \n",
       "OK          -0.075261   0.331569   0.440635 -0.280489 -0.151895 -0.169255  \n",
       "Funny       -0.074888   0.145939   0.047643 -0.069600  0.136401 -0.002302  \n",
       "Ingenious   -0.196432  -0.105614  -0.029753 -0.152334 -0.049897 -0.053840  \n",
       "Longwinded  -0.108853   0.393327   0.499069  0.266753 -0.156965 -0.087733  \n",
       "Persuasive  -0.425953  -0.074140  -0.106833  0.141589 -0.012586  0.183236  "
      ]
     },
     "execution_count": 20,
     "metadata": {},
     "output_type": "execute_result"
    }
   ],
   "source": [
    "corr_df = rating_ratio_df.copy(deep=True)\n",
    "merged_df = corr_df.merge(data[['url','duration', 'views','comments']],how='inner',on='url')\n",
    "corr_df = merged_df.corr()\n",
    "\n",
    "corr_df.head()"
   ]
  },
  {
   "cell_type": "code",
   "execution_count": 21,
   "metadata": {
    "ExecuteTime": {
     "end_time": "2020-07-14T07:41:26.552182Z",
     "start_time": "2020-07-14T07:41:26.526660Z"
    },
    "hidden": true,
    "scrolled": true
   },
   "outputs": [],
   "source": [
    "pairwise_corr_df = corr_df.stack().reset_index()\n",
    "pairwise_corr_df.columns=['attr1','attr2','corr_value']\n",
    "pairwise_corr_df.to_csv('data/output/pairwise_corr_df.csv',index=False)"
   ]
  },
  {
   "cell_type": "markdown",
   "metadata": {
    "heading_collapsed": true
   },
   "source": [
    "#### Predict views and comments using ratings and duration\n",
    "><b>Step:</b><ul>\n",
    "    <li>The data is split with 20% test size into train and test sets.</li><li>Given the very drastic scale of the rating counts, views and comments, Standard scaler is used: the scaler fits and transforms the train set and transforms the test set.</li> <li>The Linear Regression model fits on the scaled train set and predicts the scaled test set.</li><li>R2 and Mean Squared Errors are used as evaluation metrics</li></ul>\n",
    "    \n",
    "><b>Results:</b><br>\n",
    "    From the R2 and MSE, the model is able to predict the views and comments to a certain extent. The prediction is more accurate with respect to Views than comments, seen from the higher R2 score and the lower MSE. A more accurate evaluation results could be obtained with Cross validation."
   ]
  },
  {
   "cell_type": "code",
   "execution_count": 22,
   "metadata": {
    "ExecuteTime": {
     "end_time": "2020-07-14T07:41:27.023186Z",
     "start_time": "2020-07-14T07:41:26.585204Z"
    },
    "hidden": true
   },
   "outputs": [],
   "source": [
    "from sklearn.linear_model import LinearRegression\n",
    "from sklearn.model_selection import train_test_split,cross_val_score\n",
    "from sklearn.metrics import r2_score, mean_squared_error\n",
    "from sklearn.preprocessing import StandardScaler"
   ]
  },
  {
   "cell_type": "code",
   "execution_count": 23,
   "metadata": {
    "ExecuteTime": {
     "end_time": "2020-07-14T07:41:27.204184Z",
     "start_time": "2020-07-14T07:41:27.033184Z"
    },
    "hidden": true
   },
   "outputs": [
    {
     "data": {
      "text/html": [
       "<div>\n",
       "<style scoped>\n",
       "    .dataframe tbody tr th:only-of-type {\n",
       "        vertical-align: middle;\n",
       "    }\n",
       "\n",
       "    .dataframe tbody tr th {\n",
       "        vertical-align: top;\n",
       "    }\n",
       "\n",
       "    .dataframe thead th {\n",
       "        text-align: right;\n",
       "    }\n",
       "</style>\n",
       "<table border=\"1\" class=\"dataframe\">\n",
       "  <thead>\n",
       "    <tr style=\"text-align: right;\">\n",
       "      <th></th>\n",
       "      <th>OK</th>\n",
       "      <th>Funny</th>\n",
       "      <th>Ingenious</th>\n",
       "      <th>Longwinded</th>\n",
       "      <th>Persuasive</th>\n",
       "      <th>Courageous</th>\n",
       "      <th>Jaw-dropping</th>\n",
       "      <th>Unconvincing</th>\n",
       "      <th>Inspiring</th>\n",
       "      <th>Informative</th>\n",
       "      <th>Fascinating</th>\n",
       "      <th>Beautiful</th>\n",
       "      <th>Obnoxious</th>\n",
       "      <th>Confusing</th>\n",
       "      <th>duration</th>\n",
       "      <th>views</th>\n",
       "      <th>comments</th>\n",
       "    </tr>\n",
       "  </thead>\n",
       "  <tbody>\n",
       "    <tr>\n",
       "      <th>count</th>\n",
       "      <td>2550.000000</td>\n",
       "      <td>2550.000000</td>\n",
       "      <td>2550.000000</td>\n",
       "      <td>2550.000000</td>\n",
       "      <td>2550.000000</td>\n",
       "      <td>2550.000000</td>\n",
       "      <td>2550.000000</td>\n",
       "      <td>2550.000000</td>\n",
       "      <td>2550.000000</td>\n",
       "      <td>2550.000000</td>\n",
       "      <td>2550.000000</td>\n",
       "      <td>2550.000000</td>\n",
       "      <td>2550.000000</td>\n",
       "      <td>2550.000000</td>\n",
       "      <td>2550.000000</td>\n",
       "      <td>2.550000e+03</td>\n",
       "      <td>2550.000000</td>\n",
       "    </tr>\n",
       "    <tr>\n",
       "      <th>mean</th>\n",
       "      <td>81.238039</td>\n",
       "      <td>154.468627</td>\n",
       "      <td>150.739608</td>\n",
       "      <td>32.683922</td>\n",
       "      <td>220.086275</td>\n",
       "      <td>164.723529</td>\n",
       "      <td>148.057647</td>\n",
       "      <td>52.767843</td>\n",
       "      <td>530.214902</td>\n",
       "      <td>348.013333</td>\n",
       "      <td>314.164314</td>\n",
       "      <td>192.293725</td>\n",
       "      <td>26.001176</td>\n",
       "      <td>20.955294</td>\n",
       "      <td>13.775153</td>\n",
       "      <td>1.698297e+06</td>\n",
       "      <td>191.562353</td>\n",
       "    </tr>\n",
       "    <tr>\n",
       "      <th>std</th>\n",
       "      <td>90.321214</td>\n",
       "      <td>589.137728</td>\n",
       "      <td>283.800437</td>\n",
       "      <td>41.608618</td>\n",
       "      <td>466.774759</td>\n",
       "      <td>433.805453</td>\n",
       "      <td>553.879757</td>\n",
       "      <td>91.678632</td>\n",
       "      <td>1314.509665</td>\n",
       "      <td>540.225980</td>\n",
       "      <td>624.535809</td>\n",
       "      <td>477.375664</td>\n",
       "      <td>53.443249</td>\n",
       "      <td>31.552561</td>\n",
       "      <td>6.233528</td>\n",
       "      <td>2.498479e+06</td>\n",
       "      <td>282.315223</td>\n",
       "    </tr>\n",
       "    <tr>\n",
       "      <th>min</th>\n",
       "      <td>0.000000</td>\n",
       "      <td>0.000000</td>\n",
       "      <td>0.000000</td>\n",
       "      <td>0.000000</td>\n",
       "      <td>0.000000</td>\n",
       "      <td>0.000000</td>\n",
       "      <td>0.000000</td>\n",
       "      <td>0.000000</td>\n",
       "      <td>3.000000</td>\n",
       "      <td>0.000000</td>\n",
       "      <td>0.000000</td>\n",
       "      <td>0.000000</td>\n",
       "      <td>0.000000</td>\n",
       "      <td>0.000000</td>\n",
       "      <td>2.250000</td>\n",
       "      <td>5.044300e+04</td>\n",
       "      <td>2.000000</td>\n",
       "    </tr>\n",
       "    <tr>\n",
       "      <th>25%</th>\n",
       "      <td>32.000000</td>\n",
       "      <td>8.000000</td>\n",
       "      <td>26.000000</td>\n",
       "      <td>9.000000</td>\n",
       "      <td>37.000000</td>\n",
       "      <td>20.000000</td>\n",
       "      <td>18.250000</td>\n",
       "      <td>12.000000</td>\n",
       "      <td>113.000000</td>\n",
       "      <td>99.250000</td>\n",
       "      <td>79.000000</td>\n",
       "      <td>26.000000</td>\n",
       "      <td>6.000000</td>\n",
       "      <td>5.000000</td>\n",
       "      <td>9.620000</td>\n",
       "      <td>7.557928e+05</td>\n",
       "      <td>63.000000</td>\n",
       "    </tr>\n",
       "    <tr>\n",
       "      <th>50%</th>\n",
       "      <td>55.500000</td>\n",
       "      <td>21.000000</td>\n",
       "      <td>69.000000</td>\n",
       "      <td>19.000000</td>\n",
       "      <td>97.000000</td>\n",
       "      <td>51.000000</td>\n",
       "      <td>42.000000</td>\n",
       "      <td>27.000000</td>\n",
       "      <td>233.500000</td>\n",
       "      <td>212.000000</td>\n",
       "      <td>162.000000</td>\n",
       "      <td>68.000000</td>\n",
       "      <td>13.000000</td>\n",
       "      <td>12.000000</td>\n",
       "      <td>14.130000</td>\n",
       "      <td>1.124524e+06</td>\n",
       "      <td>118.000000</td>\n",
       "    </tr>\n",
       "    <tr>\n",
       "      <th>75%</th>\n",
       "      <td>99.000000</td>\n",
       "      <td>92.000000</td>\n",
       "      <td>170.750000</td>\n",
       "      <td>41.000000</td>\n",
       "      <td>225.750000</td>\n",
       "      <td>149.000000</td>\n",
       "      <td>110.750000</td>\n",
       "      <td>60.000000</td>\n",
       "      <td>497.750000</td>\n",
       "      <td>401.000000</td>\n",
       "      <td>344.000000</td>\n",
       "      <td>190.750000</td>\n",
       "      <td>27.000000</td>\n",
       "      <td>24.000000</td>\n",
       "      <td>17.445000</td>\n",
       "      <td>1.700760e+06</td>\n",
       "      <td>221.750000</td>\n",
       "    </tr>\n",
       "    <tr>\n",
       "      <th>max</th>\n",
       "      <td>1341.000000</td>\n",
       "      <td>19645.000000</td>\n",
       "      <td>6073.000000</td>\n",
       "      <td>447.000000</td>\n",
       "      <td>10704.000000</td>\n",
       "      <td>8668.000000</td>\n",
       "      <td>14728.000000</td>\n",
       "      <td>2194.000000</td>\n",
       "      <td>24924.000000</td>\n",
       "      <td>9787.000000</td>\n",
       "      <td>14447.000000</td>\n",
       "      <td>9437.000000</td>\n",
       "      <td>1361.000000</td>\n",
       "      <td>531.000000</td>\n",
       "      <td>87.600000</td>\n",
       "      <td>4.722711e+07</td>\n",
       "      <td>6404.000000</td>\n",
       "    </tr>\n",
       "  </tbody>\n",
       "</table>\n",
       "</div>"
      ],
      "text/plain": [
       "                OK         Funny    Ingenious   Longwinded    Persuasive  \\\n",
       "count  2550.000000   2550.000000  2550.000000  2550.000000   2550.000000   \n",
       "mean     81.238039    154.468627   150.739608    32.683922    220.086275   \n",
       "std      90.321214    589.137728   283.800437    41.608618    466.774759   \n",
       "min       0.000000      0.000000     0.000000     0.000000      0.000000   \n",
       "25%      32.000000      8.000000    26.000000     9.000000     37.000000   \n",
       "50%      55.500000     21.000000    69.000000    19.000000     97.000000   \n",
       "75%      99.000000     92.000000   170.750000    41.000000    225.750000   \n",
       "max    1341.000000  19645.000000  6073.000000   447.000000  10704.000000   \n",
       "\n",
       "        Courageous  Jaw-dropping  Unconvincing     Inspiring  Informative  \\\n",
       "count  2550.000000   2550.000000   2550.000000   2550.000000  2550.000000   \n",
       "mean    164.723529    148.057647     52.767843    530.214902   348.013333   \n",
       "std     433.805453    553.879757     91.678632   1314.509665   540.225980   \n",
       "min       0.000000      0.000000      0.000000      3.000000     0.000000   \n",
       "25%      20.000000     18.250000     12.000000    113.000000    99.250000   \n",
       "50%      51.000000     42.000000     27.000000    233.500000   212.000000   \n",
       "75%     149.000000    110.750000     60.000000    497.750000   401.000000   \n",
       "max    8668.000000  14728.000000   2194.000000  24924.000000  9787.000000   \n",
       "\n",
       "        Fascinating    Beautiful    Obnoxious    Confusing     duration  \\\n",
       "count   2550.000000  2550.000000  2550.000000  2550.000000  2550.000000   \n",
       "mean     314.164314   192.293725    26.001176    20.955294    13.775153   \n",
       "std      624.535809   477.375664    53.443249    31.552561     6.233528   \n",
       "min        0.000000     0.000000     0.000000     0.000000     2.250000   \n",
       "25%       79.000000    26.000000     6.000000     5.000000     9.620000   \n",
       "50%      162.000000    68.000000    13.000000    12.000000    14.130000   \n",
       "75%      344.000000   190.750000    27.000000    24.000000    17.445000   \n",
       "max    14447.000000  9437.000000  1361.000000   531.000000    87.600000   \n",
       "\n",
       "              views     comments  \n",
       "count  2.550000e+03  2550.000000  \n",
       "mean   1.698297e+06   191.562353  \n",
       "std    2.498479e+06   282.315223  \n",
       "min    5.044300e+04     2.000000  \n",
       "25%    7.557928e+05    63.000000  \n",
       "50%    1.124524e+06   118.000000  \n",
       "75%    1.700760e+06   221.750000  \n",
       "max    4.722711e+07  6404.000000  "
      ]
     },
     "execution_count": 23,
     "metadata": {},
     "output_type": "execute_result"
    }
   ],
   "source": [
    "merged_df = rating_df.merge(data[['url','duration', 'views','comments']],how='inner',on='url')\n",
    "\n",
    "merged_df.describe()"
   ]
  },
  {
   "cell_type": "code",
   "execution_count": 24,
   "metadata": {
    "ExecuteTime": {
     "end_time": "2020-07-14T07:41:27.249190Z",
     "start_time": "2020-07-14T07:41:27.225184Z"
    },
    "hidden": true
   },
   "outputs": [],
   "source": [
    "X = merged_df[rating_attr|set(['duration'])]\n",
    "y = merged_df[['comments','views']]\n",
    "\n",
    "X_train, X_test, y_train, y_test = train_test_split(X,y,test_size=0.2,random_state=2020)"
   ]
  },
  {
   "cell_type": "code",
   "execution_count": 25,
   "metadata": {
    "ExecuteTime": {
     "end_time": "2020-07-14T07:41:27.329187Z",
     "start_time": "2020-07-14T07:41:27.297183Z"
    },
    "hidden": true
   },
   "outputs": [],
   "source": [
    "x_scaler = StandardScaler()\n",
    "y_scaler = StandardScaler()\n",
    "\n",
    "x_scaler.fit(X_train)\n",
    "y_scaler.fit(y_train)\n",
    "\n",
    "X_train = x_scaler.transform(X_train)\n",
    "y_train = y_scaler.transform(y_train)"
   ]
  },
  {
   "cell_type": "code",
   "execution_count": 26,
   "metadata": {
    "ExecuteTime": {
     "end_time": "2020-07-14T07:41:27.430189Z",
     "start_time": "2020-07-14T07:41:27.359185Z"
    },
    "hidden": true
   },
   "outputs": [
    {
     "data": {
      "text/plain": [
       "LinearRegression(copy_X=True, fit_intercept=True, n_jobs=None, normalize=False)"
      ]
     },
     "execution_count": 26,
     "metadata": {},
     "output_type": "execute_result"
    }
   ],
   "source": [
    "lr = LinearRegression()\n",
    "\n",
    "lr.fit(X_train,y_train)"
   ]
  },
  {
   "cell_type": "code",
   "execution_count": 27,
   "metadata": {
    "ExecuteTime": {
     "end_time": "2020-07-14T07:41:27.487195Z",
     "start_time": "2020-07-14T07:41:27.442184Z"
    },
    "hidden": true,
    "scrolled": true
   },
   "outputs": [],
   "source": [
    "X_test = x_scaler.transform(X_test)\n",
    "y_test = y_scaler.transform(y_test)\n",
    "\n",
    "y_pred = lr.predict(X_test)"
   ]
  },
  {
   "cell_type": "code",
   "execution_count": 28,
   "metadata": {
    "ExecuteTime": {
     "end_time": "2020-07-14T07:41:27.559186Z",
     "start_time": "2020-07-14T07:41:27.503185Z"
    },
    "hidden": true
   },
   "outputs": [
    {
     "name": "stdout",
     "output_type": "stream",
     "text": [
      "scores for Comments, Views\n",
      "r2 score: [0.52343398 0.68607098]\n",
      "mse: [0.20840111 0.19828872]\n"
     ]
    }
   ],
   "source": [
    "print('scores for Comments, Views')\n",
    "print('r2 score:',r2_score(y_test,y_pred,multioutput='raw_values'))\n",
    "print('mse:', mean_squared_error(y_pred,y_test,multioutput='raw_values'))"
   ]
  },
  {
   "cell_type": "markdown",
   "metadata": {},
   "source": [
    "#### Tag analysis\n",
    "><b>Analysis:</b><ul>\n",
    "    <li>From the \"Number of talks per tag\" bar chart, one can observe the distribution follows the Power Law Distribution (or 80:20 principle). The top tags are found to be the broad and always-popular topics, such as Technology, Science and Business.</li>\n",
    "    <li>From the box plots of comments and views, we can see that the distributions between comments and views are similar for the majority of the talks (which are not the outliers). The proportion of talks with comments and views higher than the median is higher.</li>\n",
    "    "
   ]
  },
  {
   "cell_type": "code",
   "execution_count": 29,
   "metadata": {
    "ExecuteTime": {
     "end_time": "2020-07-14T07:41:27.813186Z",
     "start_time": "2020-07-14T07:41:27.575182Z"
    }
   },
   "outputs": [],
   "source": [
    "data['tags'] = data['tags'].map(ast.literal_eval)"
   ]
  },
  {
   "cell_type": "code",
   "execution_count": 30,
   "metadata": {
    "ExecuteTime": {
     "end_time": "2020-07-14T07:41:30.450707Z",
     "start_time": "2020-07-14T07:41:27.863187Z"
    }
   },
   "outputs": [],
   "source": [
    "tag_talk_info = {}\n",
    "for idx,row in data.iterrows():\n",
    "    for tag in row['tags']:\n",
    "        if tag not in tag_talk_info:\n",
    "            tag_talk_info[tag] = {'url':[row['url']],'view':[row['views']],'comment':[row['comments']]}\n",
    "        else:\n",
    "            tag_talk_info[tag]['url'].append(row['url'])\n",
    "            tag_talk_info[tag]['view'].append(row['views'])            \n",
    "            tag_talk_info[tag]['comment'].append(row['comments'])            "
   ]
  },
  {
   "cell_type": "code",
   "execution_count": 31,
   "metadata": {
    "ExecuteTime": {
     "end_time": "2020-07-14T07:41:30.632706Z",
     "start_time": "2020-07-14T07:41:30.462706Z"
    },
    "scrolled": true
   },
   "outputs": [
    {
     "data": {
      "text/html": [
       "<div>\n",
       "<style scoped>\n",
       "    .dataframe tbody tr th:only-of-type {\n",
       "        vertical-align: middle;\n",
       "    }\n",
       "\n",
       "    .dataframe tbody tr th {\n",
       "        vertical-align: top;\n",
       "    }\n",
       "\n",
       "    .dataframe thead th {\n",
       "        text-align: right;\n",
       "    }\n",
       "</style>\n",
       "<table border=\"1\" class=\"dataframe\">\n",
       "  <thead>\n",
       "    <tr style=\"text-align: right;\">\n",
       "      <th></th>\n",
       "      <th>tag</th>\n",
       "      <th>count</th>\n",
       "      <th>view</th>\n",
       "      <th>comment</th>\n",
       "    </tr>\n",
       "  </thead>\n",
       "  <tbody>\n",
       "    <tr>\n",
       "      <th>14</th>\n",
       "      <td>technology</td>\n",
       "      <td>727</td>\n",
       "      <td>[3200520, 1636292, 693341, 4531020, 358304, 11...</td>\n",
       "      <td>[265, 124, 71, 242, 99, 84, 108, 184, 213, 612...</td>\n",
       "    </tr>\n",
       "    <tr>\n",
       "      <th>12</th>\n",
       "      <td>science</td>\n",
       "      <td>567</td>\n",
       "      <td>[3200520, 693341, 9260764, 1096862, 2885999, 1...</td>\n",
       "      <td>[265, 71, 556, 184, 507, 970, 213, 612, 33, 10...</td>\n",
       "    </tr>\n",
       "    <tr>\n",
       "      <th>11</th>\n",
       "      <td>global issues</td>\n",
       "      <td>501</td>\n",
       "      <td>[3200520, 12005869, 1211416, 387877, 693341, 3...</td>\n",
       "      <td>[265, 593, 79, 55, 71, 99, 88, 108, 117, 184, ...</td>\n",
       "    </tr>\n",
       "    <tr>\n",
       "      <th>2</th>\n",
       "      <td>culture</td>\n",
       "      <td>486</td>\n",
       "      <td>[47227110, 3200520, 20685401, 3769987, 967741,...</td>\n",
       "      <td>[4553, 265, 672, 919, 46, 900, 79, 55, 84, 108...</td>\n",
       "    </tr>\n",
       "    <tr>\n",
       "      <th>293</th>\n",
       "      <td>TEDx</td>\n",
       "      <td>450</td>\n",
       "      <td>[843719, 803691, 1404586, 760493, 748862, 3157...</td>\n",
       "      <td>[103, 135, 248, 133, 89, 304, 37, 68, 196, 142...</td>\n",
       "    </tr>\n",
       "  </tbody>\n",
       "</table>\n",
       "</div>"
      ],
      "text/plain": [
       "               tag  count                                               view  \\\n",
       "14      technology    727  [3200520, 1636292, 693341, 4531020, 358304, 11...   \n",
       "12         science    567  [3200520, 693341, 9260764, 1096862, 2885999, 1...   \n",
       "11   global issues    501  [3200520, 12005869, 1211416, 387877, 693341, 3...   \n",
       "2          culture    486  [47227110, 3200520, 20685401, 3769987, 967741,...   \n",
       "293           TEDx    450  [843719, 803691, 1404586, 760493, 748862, 3157...   \n",
       "\n",
       "                                               comment  \n",
       "14   [265, 124, 71, 242, 99, 84, 108, 184, 213, 612...  \n",
       "12   [265, 71, 556, 184, 507, 970, 213, 612, 33, 10...  \n",
       "11   [265, 593, 79, 55, 71, 99, 88, 108, 117, 184, ...  \n",
       "2    [4553, 265, 672, 919, 46, 900, 79, 55, 84, 108...  \n",
       "293  [103, 135, 248, 133, 89, 304, 37, 68, 196, 142...  "
      ]
     },
     "execution_count": 31,
     "metadata": {},
     "output_type": "execute_result"
    }
   ],
   "source": [
    "tag_talk_df = pd.DataFrame()\n",
    "tag_talk_df['tag'] = tag_talk_info.keys()\n",
    "tag_talk_df['count'] = [len(v['url']) for v in tag_talk_info.values()]\n",
    "tag_talk_df['view'] = [v['view'] for v in tag_talk_info.values()]\n",
    "tag_talk_df['comment'] = [v['comment'] for v in tag_talk_info.values()]\n",
    "\n",
    "tag_talk_df=tag_talk_df.sort_values(by='count',ascending=False)\n",
    "tag_talk_df.head()"
   ]
  },
  {
   "cell_type": "code",
   "execution_count": 37,
   "metadata": {
    "ExecuteTime": {
     "end_time": "2020-07-14T07:42:31.465883Z",
     "start_time": "2020-07-14T07:42:24.464810Z"
    }
   },
   "outputs": [
    {
     "data": {
      "image/png": "[encoded data removed]",
      "text/plain": [
       "<Figure size 1440x720 with 1 Axes>"
      ]
     },
     "metadata": {
      "needs_background": "light"
     },
     "output_type": "display_data"
    }
   ],
   "source": [
    "# plot the number of talks for each tag\n",
    "\n",
    "fig = plt.figure(figsize=(20,10))\n",
    "plt.bar(x='tag',height='count',data=tag_talk_df)\n",
    "plt.title('Number of talks per tag')\n",
    "plt.show()"
   ]
  },
  {
   "cell_type": "code",
   "execution_count": 33,
   "metadata": {
    "ExecuteTime": {
     "end_time": "2020-07-14T07:41:49.036558Z",
     "start_time": "2020-07-14T07:41:48.945557Z"
    }
   },
   "outputs": [
    {
     "data": {
      "text/html": [
       "<div>\n",
       "<style scoped>\n",
       "    .dataframe tbody tr th:only-of-type {\n",
       "        vertical-align: middle;\n",
       "    }\n",
       "\n",
       "    .dataframe tbody tr th {\n",
       "        vertical-align: top;\n",
       "    }\n",
       "\n",
       "    .dataframe thead th {\n",
       "        text-align: right;\n",
       "    }\n",
       "</style>\n",
       "<table border=\"1\" class=\"dataframe\">\n",
       "  <thead>\n",
       "    <tr style=\"text-align: right;\">\n",
       "      <th></th>\n",
       "      <th>tag</th>\n",
       "      <th>count</th>\n",
       "    </tr>\n",
       "  </thead>\n",
       "  <tbody>\n",
       "    <tr>\n",
       "      <th>14</th>\n",
       "      <td>technology</td>\n",
       "      <td>727</td>\n",
       "    </tr>\n",
       "    <tr>\n",
       "      <th>12</th>\n",
       "      <td>science</td>\n",
       "      <td>567</td>\n",
       "    </tr>\n",
       "    <tr>\n",
       "      <th>11</th>\n",
       "      <td>global issues</td>\n",
       "      <td>501</td>\n",
       "    </tr>\n",
       "    <tr>\n",
       "      <th>2</th>\n",
       "      <td>culture</td>\n",
       "      <td>486</td>\n",
       "    </tr>\n",
       "    <tr>\n",
       "      <th>293</th>\n",
       "      <td>TEDx</td>\n",
       "      <td>450</td>\n",
       "    </tr>\n",
       "    <tr>\n",
       "      <th>54</th>\n",
       "      <td>design</td>\n",
       "      <td>418</td>\n",
       "    </tr>\n",
       "    <tr>\n",
       "      <th>25</th>\n",
       "      <td>business</td>\n",
       "      <td>348</td>\n",
       "    </tr>\n",
       "    <tr>\n",
       "      <th>16</th>\n",
       "      <td>entertainment</td>\n",
       "      <td>299</td>\n",
       "    </tr>\n",
       "    <tr>\n",
       "      <th>37</th>\n",
       "      <td>health</td>\n",
       "      <td>236</td>\n",
       "    </tr>\n",
       "    <tr>\n",
       "      <th>148</th>\n",
       "      <td>innovation</td>\n",
       "      <td>229</td>\n",
       "    </tr>\n",
       "  </tbody>\n",
       "</table>\n",
       "</div>"
      ],
      "text/plain": [
       "               tag  count\n",
       "14      technology    727\n",
       "12         science    567\n",
       "11   global issues    501\n",
       "2          culture    486\n",
       "293           TEDx    450\n",
       "54          design    418\n",
       "25        business    348\n",
       "16   entertainment    299\n",
       "37          health    236\n",
       "148     innovation    229"
      ]
     },
     "execution_count": 33,
     "metadata": {},
     "output_type": "execute_result"
    }
   ],
   "source": [
    "# check the top 10 tags with most number of talks\n",
    "tag_talk_df.iloc[:10,:2]"
   ]
  },
  {
   "cell_type": "code",
   "execution_count": 34,
   "metadata": {
    "ExecuteTime": {
     "end_time": "2020-07-14T07:41:50.144628Z",
     "start_time": "2020-07-14T07:41:49.058555Z"
    },
    "scrolled": false
   },
   "outputs": [
    {
     "data": {
      "image/png": "[encoded data removed]",
      "text/plain": [
       "<Figure size 2000x1000 with 1 Axes>"
      ]
     },
     "metadata": {
      "needs_background": "light"
     },
     "output_type": "display_data"
    }
   ],
   "source": [
    "plt.figure(figsize=(20,10),dpi=100)\n",
    "plt.boxplot(x='view',data=tag_talk_df.iloc[:10],showfliers=False,labels='tag')\n",
    "plt.title(\"Boxplot of Number of Views for the Top 10 Tags ignoring outliers\",fontsize=20)\n",
    "plt.show()"
   ]
  },
  {
   "cell_type": "code",
   "execution_count": 35,
   "metadata": {
    "ExecuteTime": {
     "end_time": "2020-07-14T07:41:51.209681Z",
     "start_time": "2020-07-14T07:41:50.157629Z"
    }
   },
   "outputs": [
    {
     "data": {
      "image/png": "[encoded data removed]",
      "text/plain": [
       "<Figure size 2000x1000 with 1 Axes>"
      ]
     },
     "metadata": {
      "needs_background": "light"
     },
     "output_type": "display_data"
    }
   ],
   "source": [
    "plt.figure(figsize=(20,10),dpi=100)\n",
    "plt.boxplot(x='comment',data=tag_talk_df.iloc[:10],showfliers=False,labels='tag')\n",
    "plt.title(\"Boxplot of Number of Comments for the Top 10 Tags ignoring outliers\",fontsize=20)\n",
    "plt.show()"
   ]
  }
 ],
 "metadata": {
  "kernelspec": {
   "display_name": "Python 3",
   "language": "python",
   "name": "python3"
  },
  "language_info": {
   "codemirror_mode": {
    "name": "ipython",
    "version": 3
   },
   "file_extension": ".py",
   "mimetype": "text/x-python",
   "name": "python",
   "nbconvert_exporter": "python",
   "pygments_lexer": "ipython3",
   "version": "3.7.3"
  },
  "toc": {
   "base_numbering": 1,
   "nav_menu": {
    "height": "66px",
    "width": "183px"
   },
   "number_sections": true,
   "sideBar": true,
   "skip_h1_title": false,
   "title_cell": "Table of Contents",
   "title_sidebar": "Contents",
   "toc_cell": false,
   "toc_position": {},
   "toc_section_display": true,
   "toc_window_display": false
  },
  "varInspector": {
   "cols": {
    "lenName": 16,
    "lenType": 16,
    "lenVar": 40
   },
   "kernels_config": {
    "python": {
     "delete_cmd_postfix": "",
     "delete_cmd_prefix": "del ",
     "library": "var_list.py",
     "varRefreshCmd": "print(var_dic_list())"
    },
    "r": {
     "delete_cmd_postfix": ") ",
     "delete_cmd_prefix": "rm(",
     "library": "var_list.r",
     "varRefreshCmd": "cat(var_dic_list()) "
    }
   },
   "types_to_exclude": [
    "module",
    "function",
    "builtin_function_or_method",
    "instance",
    "_Feature"
   ],
   "window_display": false
  }
 },
 "nbformat": 4,
 "nbformat_minor": 2
}
