{
 "cells": [
  {
   "cell_type": "code",
   "execution_count": 1,
   "metadata": {
    "ExecuteTime": {
     "end_time": "2020-08-03T16:59:50.740148Z",
     "start_time": "2020-08-03T16:59:49.473192Z"
    }
   },
   "outputs": [],
   "source": [
    "import numpy as np\n",
    "import pandas as pd\n",
    "import matplotlib.pyplot as plt\n",
    "%matplotlib inline\n",
    "import pickle, re"
   ]
  },
  {
   "cell_type": "code",
   "execution_count": 2,
   "metadata": {
    "ExecuteTime": {
     "end_time": "2020-08-03T16:59:51.174940Z",
     "start_time": "2020-08-03T16:59:50.754147Z"
    }
   },
   "outputs": [
    {
     "data": {
      "text/plain": [
       "(                                          transcript  \\\n",
       " 0  Good morning. How are you?(Laughter)It's been ...   \n",
       " 1  Thank you so much, Chris. And it's truly a gre...   \n",
       " 2  (Music: \"The Sound of Silence,\" Simon & Garfun...   \n",
       " 3  If you're here today — and I'm very happy that...   \n",
       " 4  About 10 years ago, I took on the task to teac...   \n",
       " \n",
       "                                                  url  \n",
       " 0  https://www.ted.com/talks/ken_robinson_says_sc...  \n",
       " 1  https://www.ted.com/talks/al_gore_on_averting_...  \n",
       " 2  https://www.ted.com/talks/david_pogue_says_sim...  \n",
       " 3  https://www.ted.com/talks/majora_carter_s_tale...  \n",
       " 4  https://www.ted.com/talks/hans_rosling_shows_t...  , (2467, 2))"
      ]
     },
     "execution_count": 2,
     "metadata": {},
     "output_type": "execute_result"
    }
   ],
   "source": [
    "transcripts = pd.read_csv('data/raw/transcripts.csv')\n",
    "transcripts.head(), transcripts.shape"
   ]
  },
  {
   "cell_type": "markdown",
   "metadata": {},
   "source": [
    "## Filtering out Transcripts with Special Characters\n",
    "> After eyeballing, we found out some talks containing special characters. As such, regex is used to filter out the talks with special characters, such as ♫, ♪, chinese characters(送你从葱), math symbols (∇ ²) and greek symbols (τ). For simplicity sake, we will discard the 71 talk transcripts."
   ]
  },
  {
   "cell_type": "code",
   "execution_count": 3,
   "metadata": {
    "ExecuteTime": {
     "end_time": "2020-08-03T16:59:51.202937Z",
     "start_time": "2020-08-03T16:59:51.182940Z"
    }
   },
   "outputs": [],
   "source": [
    "# general processing\n",
    "transcripts.transcript = transcripts.transcript.str.replace('’',\"'\")"
   ]
  },
  {
   "cell_type": "code",
   "execution_count": 4,
   "metadata": {
    "ExecuteTime": {
     "end_time": "2020-08-03T16:59:55.698486Z",
     "start_time": "2020-08-03T16:59:51.213936Z"
    },
    "tags": []
   },
   "outputs": [
    {
     "name": "stdout",
     "output_type": "stream",
     "text": [
      "71\n",
      "Example: https://www.ted.com/talks/nora_york_sings_what_i_want\r\n",
      "\n",
      "Transcript: I'd like to begin this song I wrote about ceaseless yearning and never-ending want with a poem of popular Petrarchan paradoxes by Sir Thomas Wyatt the Elder: \"I find no peace, and all my war is done; I fear and hope, I burn and freeze like ice; I fly above the wind, and yet I cannot arise; And naught I have, and all the world I seize upon.\"♫ I want what I can't have, need what I can't want ♫♫ Have what I don't have, what I want ♫♫ What I can't have, need what I can't want ♫♫ Have what I don't have, what I want ♫♫ What I can't have, need what I can't want ♫♫ Have what I don't have, what I want ♫♫ What I can't have, need what I can't want ♫♫ Have what I don't have, what I want ♫♫ What I can't have, need what I can't want ♫♫ Have but I don't have ♫♫ It feels like all I got is loss on a bad back ♫♫ Gone with the last train, honey don't you fret ♫♫ Every cloud has a silver lining ♫♫ Just a little rain, just a little rain, just a little rain ♫♫ I want what I can't have, need what I can't want ♫♫ Have what I don't have, what I want ♫♫ What I can't have, need what I can't want ♫♫ Have but I don't have ♫♫ My mind won't stop, and my heart says go ♫♫ Nobody knows how to hold me ♫♫ My mind won't stop, and my heart says, ♫♫ \"Good things come to those who wait\" ♫♫ And I can't stand in ... ♫♫ I can't stand in line forever ♫♫ Stand the cold air ♫♫ Glad-handed ♫♫ Sick and tired of the \"Later, maybe\" ♫♫ Take it, fake it, take it, take-it-or-leave-it life ♫♫ And I gotta just tame it ♫♫ I gotta just name it ♫♫ I gotta just seize, so please, oh please, oh please, oh please ♫♫ Oh please me right, 'cause ♫♫ My mind won't stop ♫♫ And my heart says go ♫♫ Nobody knows how to hold me ♫♫ My mind won't stop — and my heart says go-ooooo ... ♫♫ Good things must be here — yes, right here ♫♫ Here, right here, right here ♫♫ I won't live this life forever ♫♫ One time round is all the offer is ♫♫ Sick and tired of the \"Later, maybe\" ♫♫ Take it, fake it, make it, leave it life ♫♫ And I gotta just name it, I gotta just claim it ♫♫ I gotta just seize ♫♫ Oh please, oh please, oh please me right ♫♫ I want what I can't have, need what I can't want ♫♫ Have what I don't have, what I want ♫♫ What I can't have, need what I can't want ♫♫ Have but I don't have — you know that ♫♫ My mind won't stop, and my heart says go ♫♫ Nobody knows how to hold me, no ♫♫ My mind won't stop, and my heart says go ♫♫ 'Cause I want what I can't have, need what I can't want ♫♫ Have but I — have what I want ♫♫ What I can't have, need what I can't want ♫♫ What I can't have, need what I can't want ♫♫ Have but I don't have, what I want ♫♫ What I can't have, need what I can't want ♫♫ Have what I don't have, what I want ♫♫ What I can't have, need what I can't want ♫♫ Have but I don't have, what I want ♫♫ What I can't have, need what I can't want ♫♫ Have but I don't have what I want ♫(Applause)\n"
     ]
    }
   ],
   "source": [
    "# filter out transcripts with special characters\n",
    "from string import punctuation\n",
    "transcript_with_special_char = []\n",
    "eg = None\n",
    "for t,url in transcripts.itertuples(index=False):\n",
    "    if re.match(\"^([A-Za-z ]|[0-9]|[@_!#$%^&*()<>?\\/|}{~:.,'\\\";-—-+=…€])+$\",t)==None:\n",
    "        transcript_with_special_char.append(url)\n",
    "        if not eg:\n",
    "            eg=url,t\n",
    "print(len(transcript_with_special_char))\n",
    "print('Example: {}'.format(eg[0]))\n",
    "print('Transcript: {}'.format(eg[1]))"
   ]
  },
  {
   "cell_type": "code",
   "execution_count": 5,
   "metadata": {
    "ExecuteTime": {
     "end_time": "2020-08-03T16:59:55.741487Z",
     "start_time": "2020-08-03T16:59:55.718490Z"
    },
    "scrolled": true
   },
   "outputs": [
    {
     "data": {
      "text/plain": [
       "(2396, 2)"
      ]
     },
     "execution_count": 5,
     "metadata": {},
     "output_type": "execute_result"
    }
   ],
   "source": [
    "transcripts = transcripts[(~transcripts.url.isin(transcript_with_special_char))]\n",
    "transcripts.shape"
   ]
  },
  {
   "cell_type": "markdown",
   "metadata": {},
   "source": [
    "## Analyze with Rating"
   ]
  },
  {
   "cell_type": "code",
   "execution_count": 6,
   "metadata": {
    "ExecuteTime": {
     "end_time": "2020-08-03T16:59:58.214403Z",
     "start_time": "2020-08-03T16:59:55.749488Z"
    }
   },
   "outputs": [],
   "source": [
    "# some preprocessing\n",
    "import spacy, re, contractions\n",
    "\n",
    "nlp = spacy.load(\"en_core_web_sm\")\n",
    "\n",
    "\n",
    "def simple_preoprocess(text):\n",
    "    '''\n",
    "    Steps:\n",
    "        1. fix the contractions (e.g. don't --> do not)\n",
    "        2. remove words in the brackets (e.g. (laughter))\n",
    "        3. convert to spacy nlp \n",
    "    '''\n",
    "    fixed_contractions = contractions.fix(text)  # 1\n",
    "    removed_brackets = re.sub(\"[\\(].*?[\\)]\", \" \", fixed_contractions) # 2\n",
    "    doc = nlp(removed_brackets)\n",
    "    return doc"
   ]
  },
  {
   "cell_type": "code",
   "execution_count": 7,
   "metadata": {
    "ExecuteTime": {
     "end_time": "2020-08-03T16:59:58.259405Z",
     "start_time": "2020-08-03T16:59:58.219405Z"
    }
   },
   "outputs": [],
   "source": [
    "rating_ratio_df = pd.read_csv('data/output/rating_ratio_df.csv')\n",
    "# rating_ratio_df.head(2)"
   ]
  },
  {
   "cell_type": "code",
   "execution_count": 8,
   "metadata": {
    "ExecuteTime": {
     "end_time": "2020-08-03T16:59:59.128927Z",
     "start_time": "2020-08-03T16:59:59.081923Z"
    },
    "scrolled": false
   },
   "outputs": [
    {
     "data": {
      "text/html": [
       "<div>\n",
       "<style scoped>\n",
       "    .dataframe tbody tr th:only-of-type {\n",
       "        vertical-align: middle;\n",
       "    }\n",
       "\n",
       "    .dataframe tbody tr th {\n",
       "        vertical-align: top;\n",
       "    }\n",
       "\n",
       "    .dataframe thead th {\n",
       "        text-align: right;\n",
       "    }\n",
       "</style>\n",
       "<table border=\"1\" class=\"dataframe\">\n",
       "  <thead>\n",
       "    <tr style=\"text-align: right;\">\n",
       "      <th></th>\n",
       "      <th>OK</th>\n",
       "      <th>Funny</th>\n",
       "      <th>Ingenious</th>\n",
       "      <th>Longwinded</th>\n",
       "      <th>Persuasive</th>\n",
       "      <th>Courageous</th>\n",
       "      <th>Jaw-dropping</th>\n",
       "      <th>Unconvincing</th>\n",
       "      <th>Inspiring</th>\n",
       "      <th>Informative</th>\n",
       "      <th>Fascinating</th>\n",
       "      <th>Beautiful</th>\n",
       "      <th>Obnoxious</th>\n",
       "      <th>Confusing</th>\n",
       "      <th>url</th>\n",
       "      <th>transcript</th>\n",
       "    </tr>\n",
       "  </thead>\n",
       "  <tbody>\n",
       "    <tr>\n",
       "      <th>0</th>\n",
       "      <td>0.012509</td>\n",
       "      <td>0.209323</td>\n",
       "      <td>0.064710</td>\n",
       "      <td>0.004124</td>\n",
       "      <td>0.114054</td>\n",
       "      <td>0.034662</td>\n",
       "      <td>0.047299</td>\n",
       "      <td>0.003197</td>\n",
       "      <td>0.265573</td>\n",
       "      <td>0.078274</td>\n",
       "      <td>0.112744</td>\n",
       "      <td>0.048727</td>\n",
       "      <td>0.002227</td>\n",
       "      <td>0.002579</td>\n",
       "      <td>https://www.ted.com/talks/ken_robinson_says_sc...</td>\n",
       "      <td>Good morning. How are you?(Laughter)It's been ...</td>\n",
       "    </tr>\n",
       "    <tr>\n",
       "      <th>1</th>\n",
       "      <td>0.069142</td>\n",
       "      <td>0.185286</td>\n",
       "      <td>0.019074</td>\n",
       "      <td>0.038488</td>\n",
       "      <td>0.091281</td>\n",
       "      <td>0.047343</td>\n",
       "      <td>0.039510</td>\n",
       "      <td>0.087875</td>\n",
       "      <td>0.140668</td>\n",
       "      <td>0.150886</td>\n",
       "      <td>0.044959</td>\n",
       "      <td>0.019755</td>\n",
       "      <td>0.044619</td>\n",
       "      <td>0.021117</td>\n",
       "      <td>https://www.ted.com/talks/al_gore_on_averting_...</td>\n",
       "      <td>Thank you so much, Chris. And it's truly a gre...</td>\n",
       "    </tr>\n",
       "  </tbody>\n",
       "</table>\n",
       "</div>"
      ],
      "text/plain": [
       "         OK     Funny  Ingenious  Longwinded  Persuasive  Courageous  \\\n",
       "0  0.012509  0.209323   0.064710    0.004124    0.114054    0.034662   \n",
       "1  0.069142  0.185286   0.019074    0.038488    0.091281    0.047343   \n",
       "\n",
       "   Jaw-dropping  Unconvincing  Inspiring  Informative  Fascinating  Beautiful  \\\n",
       "0      0.047299      0.003197   0.265573     0.078274     0.112744   0.048727   \n",
       "1      0.039510      0.087875   0.140668     0.150886     0.044959   0.019755   \n",
       "\n",
       "   Obnoxious  Confusing                                                url  \\\n",
       "0   0.002227   0.002579  https://www.ted.com/talks/ken_robinson_says_sc...   \n",
       "1   0.044619   0.021117  https://www.ted.com/talks/al_gore_on_averting_...   \n",
       "\n",
       "                                          transcript  \n",
       "0  Good morning. How are you?(Laughter)It's been ...  \n",
       "1  Thank you so much, Chris. And it's truly a gre...  "
      ]
     },
     "execution_count": 8,
     "metadata": {},
     "output_type": "execute_result"
    }
   ],
   "source": [
    "rating_transcript_df = rating_ratio_df.merge(transcripts,on='url')\n",
    "rating_transcript_df.head(2)"
   ]
  },
  {
   "cell_type": "markdown",
   "metadata": {},
   "source": [
    "### Analyse Ratings with Avg & Median sentence length###\n",
    "><b>Hypothesis:</b><br> \n",
    "    Transcripts with longer sentences may have the tendancy to lose the attention of the audience, and thus audience would find the talk more longwinded and confusing. The duration has the a very weak positive correlation with Longwinded but not Confusing. \n",
    "    \n",
    "><b>Analysis:</b>\n",
    "    <br>However, from the correlation values, the correlation is near zero, and thus the mean and median sentence lengths do not indicate whether a talk is longwinded and confusing.\n",
    "    <br><br>The scatter plot and the number of overlapping talks between the top 50 longwinded talks and the top 50 mean sentence length talks further proves that the hypothesis is not supported.\n",
    "    "
   ]
  },
  {
   "cell_type": "code",
   "execution_count": 9,
   "metadata": {
    "ExecuteTime": {
     "end_time": "2020-07-22T08:17:44.834912Z",
     "start_time": "2020-07-22T08:00:09.759282Z"
    }
   },
   "outputs": [],
   "source": [
    "def generate_sentence_length(transcript):\n",
    "    doc = simple_preoprocess(transcript)    \n",
    "    lengths = [len(s) for s in doc.sents]\n",
    "    return lengths\n",
    "\n",
    "sent_length_df = rating_transcript_df.copy()\n",
    "sent_length_df['len'] = rating_transcript_df.transcript.map(generate_sentence_length)"
   ]
  },
  {
   "cell_type": "code",
   "execution_count": 10,
   "metadata": {
    "ExecuteTime": {
     "end_time": "2020-07-22T08:19:07.559578Z",
     "start_time": "2020-07-22T08:19:07.506262Z"
    }
   },
   "outputs": [],
   "source": [
    "from statistics import median\n",
    "\n",
    "sent_length_df['avg_len'] = sent_length_df.len.map(lambda x: sum(x)/len(x))\n",
    "sent_length_df['median_len'] = sent_length_df.len.map(lambda x: median(x))"
   ]
  },
  {
   "cell_type": "code",
   "execution_count": 11,
   "metadata": {
    "ExecuteTime": {
     "end_time": "2020-07-22T08:19:08.650449Z",
     "start_time": "2020-07-22T08:19:08.628445Z"
    },
    "scrolled": false
   },
   "outputs": [
    {
     "data": {
      "text/html": [
       "<div>\n",
       "<style scoped>\n",
       "    .dataframe tbody tr th:only-of-type {\n",
       "        vertical-align: middle;\n",
       "    }\n",
       "\n",
       "    .dataframe tbody tr th {\n",
       "        vertical-align: top;\n",
       "    }\n",
       "\n",
       "    .dataframe thead th {\n",
       "        text-align: right;\n",
       "    }\n",
       "</style>\n",
       "<table border=\"1\" class=\"dataframe\">\n",
       "  <thead>\n",
       "    <tr style=\"text-align: right;\">\n",
       "      <th></th>\n",
       "      <th>avg_len</th>\n",
       "      <th>median_len</th>\n",
       "    </tr>\n",
       "  </thead>\n",
       "  <tbody>\n",
       "    <tr>\n",
       "      <th>OK</th>\n",
       "      <td>0.002289</td>\n",
       "      <td>0.004594</td>\n",
       "    </tr>\n",
       "    <tr>\n",
       "      <th>Funny</th>\n",
       "      <td>-0.289711</td>\n",
       "      <td>-0.290114</td>\n",
       "    </tr>\n",
       "    <tr>\n",
       "      <th>Ingenious</th>\n",
       "      <td>-0.018536</td>\n",
       "      <td>-0.008602</td>\n",
       "    </tr>\n",
       "    <tr>\n",
       "      <th>Longwinded</th>\n",
       "      <td>0.077227</td>\n",
       "      <td>0.052946</td>\n",
       "    </tr>\n",
       "    <tr>\n",
       "      <th>Persuasive</th>\n",
       "      <td>0.149536</td>\n",
       "      <td>0.121312</td>\n",
       "    </tr>\n",
       "    <tr>\n",
       "      <th>Courageous</th>\n",
       "      <td>-0.011289</td>\n",
       "      <td>-0.019409</td>\n",
       "    </tr>\n",
       "    <tr>\n",
       "      <th>Jaw-dropping</th>\n",
       "      <td>-0.131181</td>\n",
       "      <td>-0.121316</td>\n",
       "    </tr>\n",
       "    <tr>\n",
       "      <th>Unconvincing</th>\n",
       "      <td>0.021711</td>\n",
       "      <td>0.009021</td>\n",
       "    </tr>\n",
       "    <tr>\n",
       "      <th>Inspiring</th>\n",
       "      <td>-0.006287</td>\n",
       "      <td>-0.014888</td>\n",
       "    </tr>\n",
       "    <tr>\n",
       "      <th>Informative</th>\n",
       "      <td>0.299087</td>\n",
       "      <td>0.305771</td>\n",
       "    </tr>\n",
       "    <tr>\n",
       "      <th>Fascinating</th>\n",
       "      <td>0.050209</td>\n",
       "      <td>0.066844</td>\n",
       "    </tr>\n",
       "    <tr>\n",
       "      <th>Beautiful</th>\n",
       "      <td>-0.129731</td>\n",
       "      <td>-0.107976</td>\n",
       "    </tr>\n",
       "    <tr>\n",
       "      <th>Obnoxious</th>\n",
       "      <td>-0.091498</td>\n",
       "      <td>-0.108758</td>\n",
       "    </tr>\n",
       "    <tr>\n",
       "      <th>Confusing</th>\n",
       "      <td>-0.006575</td>\n",
       "      <td>-0.015652</td>\n",
       "    </tr>\n",
       "    <tr>\n",
       "      <th>avg_len</th>\n",
       "      <td>1.000000</td>\n",
       "      <td>0.932050</td>\n",
       "    </tr>\n",
       "    <tr>\n",
       "      <th>median_len</th>\n",
       "      <td>0.932050</td>\n",
       "      <td>1.000000</td>\n",
       "    </tr>\n",
       "  </tbody>\n",
       "</table>\n",
       "</div>"
      ],
      "text/plain": [
       "               avg_len  median_len\n",
       "OK            0.002289    0.004594\n",
       "Funny        -0.289711   -0.290114\n",
       "Ingenious    -0.018536   -0.008602\n",
       "Longwinded    0.077227    0.052946\n",
       "Persuasive    0.149536    0.121312\n",
       "Courageous   -0.011289   -0.019409\n",
       "Jaw-dropping -0.131181   -0.121316\n",
       "Unconvincing  0.021711    0.009021\n",
       "Inspiring    -0.006287   -0.014888\n",
       "Informative   0.299087    0.305771\n",
       "Fascinating   0.050209    0.066844\n",
       "Beautiful    -0.129731   -0.107976\n",
       "Obnoxious    -0.091498   -0.108758\n",
       "Confusing    -0.006575   -0.015652\n",
       "avg_len       1.000000    0.932050\n",
       "median_len    0.932050    1.000000"
      ]
     },
     "execution_count": 11,
     "metadata": {},
     "output_type": "execute_result"
    }
   ],
   "source": [
    "# corr between mean sentence length and median sentence length, and the ratings\n",
    "sent_length_df.corr()[['avg_len','median_len']]"
   ]
  },
  {
   "cell_type": "code",
   "execution_count": 12,
   "metadata": {
    "ExecuteTime": {
     "end_time": "2020-07-22T08:19:11.148404Z",
     "start_time": "2020-07-22T08:19:09.886136Z"
    }
   },
   "outputs": [
    {
     "data": {
      "text/plain": [
       "<matplotlib.axes._subplots.AxesSubplot at 0x1a1bba18978>"
      ]
     },
     "execution_count": 12,
     "metadata": {},
     "output_type": "execute_result"
    },
    {
     "data": {
      "image/png": "[encoded data removed]",
      "text/plain": [
       "<Figure size 432x288 with 1 Axes>"
      ]
     },
     "metadata": {
      "needs_background": "light"
     },
     "output_type": "display_data"
    },
    {
     "data": {
      "image/png": "[encoded data removed]",
      "text/plain": [
       "<Figure size 432x288 with 1 Axes>"
      ]
     },
     "metadata": {
      "needs_background": "light"
     },
     "output_type": "display_data"
    }
   ],
   "source": [
    "sent_length_df[['Longwinded','avg_len']].plot(kind='scatter',x='Longwinded',y='avg_len')\n",
    "sent_length_df[['Longwinded','median_len']].plot(kind='scatter',x='Longwinded',y='median_len')"
   ]
  },
  {
   "cell_type": "code",
   "execution_count": 13,
   "metadata": {
    "ExecuteTime": {
     "end_time": "2020-07-22T08:19:13.836813Z",
     "start_time": "2020-07-22T08:19:13.820905Z"
    },
    "scrolled": true
   },
   "outputs": [
    {
     "name": "stdout",
     "output_type": "stream",
     "text": [
      "number of overlaps between the top 50 longwinded talks and the top 50 mean sentence length talks:\n",
      "1\n"
     ]
    }
   ],
   "source": [
    "# get the top 50 longwinded talks and the top 50 mean sentence length talks to see the overlap\n",
    "top_longwinded = sent_length_df.sort_values('Longwinded',ascending=False).iloc[:50]['url']\n",
    "top_mean_sentence_length = sent_length_df.sort_values('avg_len',ascending=False).iloc[:50]['url']\n",
    "print(\"number of overlaps between the top 50 longwinded talks and the top 50 mean sentence length talks:\")\n",
    "print(len(set(top_longwinded) & set(top_mean_sentence_length)))"
   ]
  },
  {
   "cell_type": "markdown",
   "metadata": {},
   "source": [
    "### Analyze with Audience Reactions###\n",
    "><b>Hypothesis:</b><br>\n",
    "    As the transcripts include the audience and background reactions, it is hypothesized that if audience laugh a lot in a talk, they may have the tendancy to find the talk funny; other reactions may indicate other attributes of the talk.\n",
    "    \n",
    "><b>Analysis:</b><br>\n",
    "    The phrases in the parenthesis are extracted and there is much noise data. The most commons ones are analyzed and similar ones are aggregated. \n",
    "    From the correlation result, the following correlations stand out:<ul>\n",
    "    <li>There is a good positive correlation between Funny and Laugh count with the value of 0.603781. This indicates that the more the audience laugh the higher chance the audience would give the talk a \"Funny\" rating.</li>\n",
    "    <li>For Informative, the correlations between that and Laugh count, and Applause count are negative. This may be because that for talks rated as Informative the most, they serve as knowledge sharing sessions for the audience, instead of those with jokes and performances. </li>\n",
    "    <li>As the flip slide of the previous point, for talks rated as Jaw-dropping the most, the audience tends to applause a lot, as the talk may contain things that the audience do not expect at all.</li>"
   ]
  },
  {
   "cell_type": "code",
   "execution_count": 9,
   "metadata": {
    "ExecuteTime": {
     "end_time": "2020-08-03T17:00:02.505270Z",
     "start_time": "2020-08-03T17:00:02.460262Z"
    }
   },
   "outputs": [],
   "source": [
    "audience_reaction_df = rating_transcript_df.copy()\n",
    "audience_reaction_df['reaction'] = rating_transcript_df.transcript.map(lambda x:re.findall('\\(([^)]+)\\)',x))"
   ]
  },
  {
   "cell_type": "code",
   "execution_count": 10,
   "metadata": {
    "ExecuteTime": {
     "end_time": "2020-08-03T17:00:03.860683Z",
     "start_time": "2020-08-03T17:00:03.820685Z"
    }
   },
   "outputs": [
    {
     "data": {
      "text/plain": [
       "785"
      ]
     },
     "execution_count": 10,
     "metadata": {},
     "output_type": "execute_result"
    }
   ],
   "source": [
    "reaction_corpus=set()\n",
    "all_reactions= []\n",
    "for r in audience_reaction_df.reaction:\n",
    "    reaction_corpus = set(r) | reaction_corpus\n",
    "    all_reactions.extend(r)\n",
    "len(reaction_corpus) # many noise data here "
   ]
  },
  {
   "cell_type": "code",
   "execution_count": 11,
   "metadata": {
    "ExecuteTime": {
     "end_time": "2020-08-03T17:00:05.895440Z",
     "start_time": "2020-08-03T17:00:05.884437Z"
    }
   },
   "outputs": [
    {
     "data": {
      "text/plain": [
       "[('Laughter', 10011),\n",
       " ('Applause', 5251),\n",
       " ('Music', 530),\n",
       " ('Video', 311),\n",
       " ('Audio', 54),\n",
       " ('Laughs', 49),\n",
       " ('Music ends', 44),\n",
       " ('Applause ends', 42),\n",
       " ('Cheers', 39),\n",
       " ('Singing', 34),\n",
       " ('Beatboxing', 17),\n",
       " ('English', 17),\n",
       " ('Cheering', 16),\n",
       " ('Sighs', 16),\n",
       " ('k', 16),\n",
       " ('Whistling', 15),\n",
       " ('Guitar', 14),\n",
       " ('Guitar strum', 14),\n",
       " ('Sings', 13),\n",
       " ('Audience', 12)]"
      ]
     },
     "execution_count": 11,
     "metadata": {},
     "output_type": "execute_result"
    }
   ],
   "source": [
    "from collections import Counter\n",
    "c = Counter(all_reactions)\n",
    "c.most_common(20)"
   ]
  },
  {
   "cell_type": "code",
   "execution_count": 12,
   "metadata": {
    "ExecuteTime": {
     "end_time": "2020-08-03T17:00:09.003951Z",
     "start_time": "2020-08-03T17:00:08.980952Z"
    }
   },
   "outputs": [],
   "source": [
    "audience_reaction_df['laugh_count'] = audience_reaction_df.reaction.map(lambda x: len([r for r in x if r =='Laughter' or r == 'Laughs']))\n",
    "audience_reaction_df['applause_count'] = audience_reaction_df.reaction.map(lambda x: len([r for r in x if 'Applause' in r]))"
   ]
  },
  {
   "cell_type": "code",
   "execution_count": 13,
   "metadata": {
    "ExecuteTime": {
     "end_time": "2020-08-03T17:00:09.817751Z",
     "start_time": "2020-08-03T17:00:09.796750Z"
    },
    "scrolled": false
   },
   "outputs": [
    {
     "data": {
      "text/html": [
       "<div>\n",
       "<style scoped>\n",
       "    .dataframe tbody tr th:only-of-type {\n",
       "        vertical-align: middle;\n",
       "    }\n",
       "\n",
       "    .dataframe tbody tr th {\n",
       "        vertical-align: top;\n",
       "    }\n",
       "\n",
       "    .dataframe thead th {\n",
       "        text-align: right;\n",
       "    }\n",
       "</style>\n",
       "<table border=\"1\" class=\"dataframe\">\n",
       "  <thead>\n",
       "    <tr style=\"text-align: right;\">\n",
       "      <th></th>\n",
       "      <th>laugh_count</th>\n",
       "      <th>applause_count</th>\n",
       "    </tr>\n",
       "  </thead>\n",
       "  <tbody>\n",
       "    <tr>\n",
       "      <th>OK</th>\n",
       "      <td>-0.137406</td>\n",
       "      <td>-0.258776</td>\n",
       "    </tr>\n",
       "    <tr>\n",
       "      <th>Funny</th>\n",
       "      <td>0.628123</td>\n",
       "      <td>0.161494</td>\n",
       "    </tr>\n",
       "    <tr>\n",
       "      <th>Ingenious</th>\n",
       "      <td>0.012971</td>\n",
       "      <td>0.053914</td>\n",
       "    </tr>\n",
       "    <tr>\n",
       "      <th>Longwinded</th>\n",
       "      <td>-0.003550</td>\n",
       "      <td>-0.154451</td>\n",
       "    </tr>\n",
       "    <tr>\n",
       "      <th>Persuasive</th>\n",
       "      <td>-0.135416</td>\n",
       "      <td>-0.119936</td>\n",
       "    </tr>\n",
       "    <tr>\n",
       "      <th>Courageous</th>\n",
       "      <td>-0.050884</td>\n",
       "      <td>0.119973</td>\n",
       "    </tr>\n",
       "    <tr>\n",
       "      <th>Jaw-dropping</th>\n",
       "      <td>-0.000184</td>\n",
       "      <td>0.220833</td>\n",
       "    </tr>\n",
       "    <tr>\n",
       "      <th>Unconvincing</th>\n",
       "      <td>-0.122059</td>\n",
       "      <td>-0.164080</td>\n",
       "    </tr>\n",
       "    <tr>\n",
       "      <th>Inspiring</th>\n",
       "      <td>-0.032594</td>\n",
       "      <td>0.155343</td>\n",
       "    </tr>\n",
       "    <tr>\n",
       "      <th>Informative</th>\n",
       "      <td>-0.227705</td>\n",
       "      <td>-0.295182</td>\n",
       "    </tr>\n",
       "    <tr>\n",
       "      <th>Fascinating</th>\n",
       "      <td>-0.018661</td>\n",
       "      <td>-0.040782</td>\n",
       "    </tr>\n",
       "    <tr>\n",
       "      <th>Beautiful</th>\n",
       "      <td>-0.052919</td>\n",
       "      <td>0.106888</td>\n",
       "    </tr>\n",
       "    <tr>\n",
       "      <th>Obnoxious</th>\n",
       "      <td>0.048476</td>\n",
       "      <td>-0.036310</td>\n",
       "    </tr>\n",
       "    <tr>\n",
       "      <th>Confusing</th>\n",
       "      <td>-0.024274</td>\n",
       "      <td>-0.143409</td>\n",
       "    </tr>\n",
       "    <tr>\n",
       "      <th>laugh_count</th>\n",
       "      <td>1.000000</td>\n",
       "      <td>0.378318</td>\n",
       "    </tr>\n",
       "    <tr>\n",
       "      <th>applause_count</th>\n",
       "      <td>0.378318</td>\n",
       "      <td>1.000000</td>\n",
       "    </tr>\n",
       "  </tbody>\n",
       "</table>\n",
       "</div>"
      ],
      "text/plain": [
       "                laugh_count  applause_count\n",
       "OK                -0.137406       -0.258776\n",
       "Funny              0.628123        0.161494\n",
       "Ingenious          0.012971        0.053914\n",
       "Longwinded        -0.003550       -0.154451\n",
       "Persuasive        -0.135416       -0.119936\n",
       "Courageous        -0.050884        0.119973\n",
       "Jaw-dropping      -0.000184        0.220833\n",
       "Unconvincing      -0.122059       -0.164080\n",
       "Inspiring         -0.032594        0.155343\n",
       "Informative       -0.227705       -0.295182\n",
       "Fascinating       -0.018661       -0.040782\n",
       "Beautiful         -0.052919        0.106888\n",
       "Obnoxious          0.048476       -0.036310\n",
       "Confusing         -0.024274       -0.143409\n",
       "laugh_count        1.000000        0.378318\n",
       "applause_count     0.378318        1.000000"
      ]
     },
     "execution_count": 13,
     "metadata": {},
     "output_type": "execute_result"
    }
   ],
   "source": [
    "# correlation results\n",
    "audience_reaction_df.corr()[['laugh_count','applause_count']]"
   ]
  },
  {
   "cell_type": "markdown",
   "metadata": {},
   "source": [
    "## Key word extraction with TF-IDF##\n",
    "<b>Approach:</b>We explored the information and keyword extraction from the TED Talks using TFIDF metric."
   ]
  },
  {
   "cell_type": "markdown",
   "metadata": {},
   "source": [
    "### Pre-processing###\n",
    ">For the preprocessing of the transcripts, besides the standard removal of stopwords, punctuations and non-alphabetic characters, we add in the Named Entity Recognition and isolate entity as single tokens, such as \"the Great Wall of China\" as one token. This is due to the nature of the TED Talks where there are talks about particular entities and there are speakers who also bring in real-world examples. If the entities were to split up into individual words as tokens, the information would be lost."
   ]
  },
  {
   "cell_type": "code",
   "execution_count": 14,
   "metadata": {
    "ExecuteTime": {
     "end_time": "2020-07-22T08:19:16.485925Z",
     "start_time": "2020-07-22T08:19:16.468937Z"
    }
   },
   "outputs": [],
   "source": [
    "def create_doc_entity_list(doc):\n",
    "    entity_index = []\n",
    "    for ent in doc.ents:\n",
    "        entity_index.append((ent.start, ent.end-1,ent.label_))\n",
    "    return entity_index\n",
    "\n",
    "def tokenize_doc(doc, min_word_length=2):\n",
    "    '''\n",
    "    This function takes in a spacy doc (after apply simple_preoprocess function on a talk transcript string)\n",
    "        identifies the various entities\n",
    "        remove stopwords, punctuations and numeric values\n",
    "    returns the lemmatized tokens in lowercase with length >=2, along with the entities\n",
    "\n",
    "    Considering that TED Talks consist of a wide variety of topics, most entity types are kept to ensure no information is lost  \n",
    "    '''\n",
    "    entity_index = create_doc_entity_list(doc)\n",
    "    entity = ''\n",
    "    tokens = []\n",
    "    for i, token in enumerate(doc):\n",
    "        is_entity = False\n",
    "        for ent in entity_index:\n",
    "            if i >= ent[0] and i <= ent[1]:\n",
    "                if ent[2] not in ['DATE','TIME','PERCENT','MONEY','QUANTITY','ORDINAL','CARDINAL']:\n",
    "                    if entity =='':\n",
    "                        entity = token.text\n",
    "                    else:\n",
    "                        entity += \" \"+token.text\n",
    "                is_entity = True\n",
    "        if is_entity:\n",
    "            continue\n",
    "        if entity != '':\n",
    "            tokens.append(entity)\n",
    "            entity = ''\n",
    "        if token.is_stop == False and token.is_alpha == True and len(token.lemma_) >= 2:\n",
    "            tokens.append(token.lemma_.lower())\n",
    "    return tokens\n",
    "\n",
    "def preprocess(transcript):\n",
    "    doc = simple_preoprocess(transcript)\n",
    "    tokens = tokenize_doc(doc)\n",
    "    return tokens"
   ]
  },
  {
   "cell_type": "code",
   "execution_count": null,
   "metadata": {
    "ExecuteTime": {
     "end_time": "2020-07-22T07:59:38.616535Z",
     "start_time": "2020-07-22T07:51:06.349Z"
    }
   },
   "outputs": [],
   "source": [
    "# processed_docs = transcripts.transcript.map(preprocess)\n",
    "# pickle.dump(processed_docs,open('./data/pickle/processed_docs.p','wb'))\n",
    "# processed_docs.head()"
   ]
  },
  {
   "cell_type": "code",
   "execution_count": 15,
   "metadata": {
    "ExecuteTime": {
     "end_time": "2020-07-22T08:19:18.565742Z",
     "start_time": "2020-07-22T08:19:18.292789Z"
    }
   },
   "outputs": [],
   "source": [
    "processed_docs = pickle.load(open('./data/pickle/processed_docs.p','rb'))"
   ]
  },
  {
   "cell_type": "markdown",
   "metadata": {},
   "source": [
    "### TF-IDF computation###\n",
    ">To compute the TFIDF value for each word in each document, we first use a dictionary to find the document frequency for each word to compute the inverse document frequency (IDF). After that, we loop through the whole corpus, with a threshold of 5 for term frequency, we computed the TFIDF value. Finally, for each document, we sorted the tokens by the TFIDF value in a reversed order to obtain the most important tokens. \n"
   ]
  },
  {
   "cell_type": "code",
   "execution_count": 16,
   "metadata": {
    "ExecuteTime": {
     "end_time": "2020-07-22T08:19:20.629928Z",
     "start_time": "2020-07-22T08:19:20.086566Z"
    }
   },
   "outputs": [],
   "source": [
    "# compute IDF for each word\n",
    "import math\n",
    "\n",
    "# create a dict to count number of doc that contains the word for all words\n",
    "doc_freq_dict = {}\n",
    "for tokens in processed_docs:\n",
    "    words_set = set(tokens)\n",
    "    for word in words_set:\n",
    "        if word in doc_freq_dict:\n",
    "            doc_freq_dict[word] += 1\n",
    "        else:\n",
    "            doc_freq_dict[word] = 1\n",
    "\n",
    "doc_count = len(processed_docs)\n",
    "idf_dict = {}\n",
    "for word in doc_freq_dict:\n",
    "    idf_dict[word] = math.log(doc_count/doc_freq_dict[word])"
   ]
  },
  {
   "cell_type": "code",
   "execution_count": 17,
   "metadata": {
    "ExecuteTime": {
     "end_time": "2020-07-22T08:19:36.643146Z",
     "start_time": "2020-07-22T08:19:21.828673Z"
    }
   },
   "outputs": [],
   "source": [
    "# compute TFIDF together\n",
    "tfidf_dict = {} # doc url: [(token,tfidf value)]\n",
    "for i, doc in enumerate(processed_docs):\n",
    "    d = {}\n",
    "    for word in set(doc):\n",
    "        tf = doc.count(word)\n",
    "        if tf < 5:  # threshold for tf\n",
    "            continue\n",
    "        d[word]=doc.count(word) * idf_dict[word] / len(doc)\n",
    "    tfidf_dict[transcripts.iloc[i,1]] = sorted([(k,v) for k,v in d.items()],reverse=True,key=lambda x:x[1])"
   ]
  },
  {
   "cell_type": "markdown",
   "metadata": {},
   "source": [
    "### Check the results ###"
   ]
  },
  {
   "cell_type": "markdown",
   "metadata": {},
   "source": [
    "> To evaluate the results, we randomly select 5 talks with their top 5 words based on TF-IDF metric. We used the 5 words as the search keywords in ted.com to see if can corresponding talks appear in the top search resutls. \n",
    "\n",
    "> We discover that by only using the top 2 words among the 5 words, the corresponding talk will be the First search result shown. For some talks, the top word itself can directly lead us to the corresponding talk.\n",
    "    "
   ]
  },
  {
   "cell_type": "code",
   "execution_count": 18,
   "metadata": {
    "ExecuteTime": {
     "end_time": "2020-07-22T08:19:40.165483Z",
     "start_time": "2020-07-22T08:19:40.110515Z"
    },
    "tags": []
   },
   "outputs": [
    {
     "name": "stdout",
     "output_type": "stream",
     "text": [
      "https://www.ted.com/talks/mohamed_ali_the_link_between_unemployment_and_terrorism\n",
      "['Mogadishu', 'waithood', 'entrepreneurship', 'city', 'young']\n",
      "\n",
      "https://www.ted.com/talks/seth_godin_on_the_tribes_we_lead\n",
      "['tribe', 'shoe', 'quo', 'connect', 'status']\n",
      "\n",
      "https://www.ted.com/talks/suki_kim_this_is_what_it_s_like_to_go_undercover_in_north_korea\n",
      "['North Korea', 'student', 'lie', 'leader', 'truth']\n",
      "\n",
      "https://www.ted.com/talks/casey_brown_know_your_worth_and_then_ask_for_it\n",
      "['client', 'value', 'communicate', 'earn', 'worth']\n",
      "\n",
      "https://www.ted.com/talks/ivan_oransky_are_we_over_medicalized\n",
      "['pre', 'subclinical', 'vivor', 'medicalize', 'precondition']\n",
      "\n"
     ]
    }
   ],
   "source": [
    "import random\n",
    "random.seed(2020)\n",
    "\n",
    "urls = random.choices(list(tfidf_dict.keys()),k=5)\n",
    "\n",
    "for url in urls:\n",
    "    print(url.strip())\n",
    "    print([x[0] for x in tfidf_dict[url][:5]])\n",
    "    print()"
   ]
  },
  {
   "cell_type": "markdown",
   "metadata": {},
   "source": [
    "> We also collate all the words to get he top 10 TF-IDF words in the entire corpus. From the results shown, we can see that there is some words that we did not manage to clean out, such as \"bf\", \"dh\" and \"sw\". These words then ignored as they may be abbreviations or other unknown words. \n",
    "\n",
    "> For the remaining words, most if not all the corresponding talks can be identified with the respective word being the search keyword."
   ]
  },
  {
   "cell_type": "code",
   "execution_count": 19,
   "metadata": {
    "ExecuteTime": {
     "end_time": "2020-07-22T08:19:42.043000Z",
     "start_time": "2020-07-22T08:19:41.964999Z"
    },
    "scrolled": true,
    "tags": []
   },
   "outputs": [
    {
     "name": "stdout",
     "output_type": "stream",
     "text": [
      "('bf', (0.5860586078085194, 'https://www.ted.com/talks/the_raspyni_brothers_juggle_and_jest\\r\\n'))\n",
      "('dh', (0.5853612652475374, 'https://www.ted.com/talks/the_raspyni_brothers_juggle_and_jest\\r\\n'))\n",
      "('sw', (0.5445361509351077, 'https://www.ted.com/talks/einstein_the_parrot_talks_and_squawks\\r\\n'))\n",
      "('Derek', (0.5370006650511663, 'https://www.ted.com/talks/derek_paravicini_and_adam_ockelford_in_the_key_of_genius\\r\\n'))\n",
      "('password', (0.5027523830644798, 'https://www.ted.com/talks/lorrie_faith_cranor_what_s_wrong_with_your_pa_w0rd\\r\\n'))\n",
      "('carousel', (0.48303532540183614, 'https://www.ted.com/talks/sara_ramirez_and_michael_pemberton_rollercoaster\\r\\n'))\n",
      "('Rezero', (0.47553953084215966, 'https://www.ted.com/talks/peter_fankhauser_meet_rezero_the_dancing_ballbot\\r\\n'))\n",
      "('tapir', (0.47186630186271084, 'https://www.ted.com/talks/patricia_medici_the_coolest_animal_you_know_nothing_about_and_how_we_can_save_it\\r\\n'))\n",
      "('cymatic', (0.464162987042108, 'https://www.ted.com/talks/evan_grant_cymatics\\r\\n'))\n",
      "('pollen', (0.4588982889128288, 'https://www.ted.com/talks/jonathan_drori_every_pollen_grain_has_a_story\\r\\n'))\n"
     ]
    }
   ],
   "source": [
    "# collate all words \n",
    "top_words = {}\n",
    "for url,values in tfidf_dict.items():\n",
    "    for word, v in values[:10]:\n",
    "        if word not in top_words or v > top_words[word][0]:\n",
    "            top_words[word] = (v,url)\n",
    "for i in sorted(top_words.items(), key=lambda x: x[1][0], reverse=True)[:10]:\n",
    "    print(i)"
   ]
  },
  {
   "cell_type": "code",
   "execution_count": 20,
   "metadata": {
    "ExecuteTime": {
     "end_time": "2020-07-22T08:19:45.605239Z",
     "start_time": "2020-07-22T08:19:45.564238Z"
    }
   },
   "outputs": [
    {
     "name": "stdout",
     "output_type": "stream",
     "text": [
      "('Derek', (0.5370006650511663, 'https://www.ted.com/talks/derek_paravicini_and_adam_ockelford_in_the_key_of_genius\\r\\n'))\n",
      "('password', (0.5027523830644798, 'https://www.ted.com/talks/lorrie_faith_cranor_what_s_wrong_with_your_pa_w0rd\\r\\n'))\n",
      "('carousel', (0.48303532540183614, 'https://www.ted.com/talks/sara_ramirez_and_michael_pemberton_rollercoaster\\r\\n'))\n",
      "('Rezero', (0.47553953084215966, 'https://www.ted.com/talks/peter_fankhauser_meet_rezero_the_dancing_ballbot\\r\\n'))\n",
      "('tapir', (0.47186630186271084, 'https://www.ted.com/talks/patricia_medici_the_coolest_animal_you_know_nothing_about_and_how_we_can_save_it\\r\\n'))\n",
      "('cymatic', (0.464162987042108, 'https://www.ted.com/talks/evan_grant_cymatics\\r\\n'))\n",
      "('pollen', (0.4588982889128288, 'https://www.ted.com/talks/jonathan_drori_every_pollen_grain_has_a_story\\r\\n'))\n",
      "('EDI', (0.4349938113858265, 'https://www.ted.com/talks/marco_tempest_maybe_the_best_robot_demo_ever\\r\\n'))\n",
      "('whistle', (0.4262441966335955, 'https://www.ted.com/talks/a_whistleblower_you_haven_t_heard\\r\\n'))\n",
      "('iceberg', (0.4140541671190661, 'https://www.ted.com/talks/camille_seaman_haunting_photos_of_ice\\r\\n'))\n"
     ]
    }
   ],
   "source": [
    "# removed the bf, dh, sw\n",
    "\n",
    "for i in sorted(top_words.items(), key=lambda x: x[1][0], reverse=True)[3:13]:\n",
    "    print(i)"
   ]
  }
 ],
 "metadata": {
  "kernelspec": {
   "display_name": "Python 3",
   "language": "python",
   "name": "python3"
  },
  "language_info": {
   "codemirror_mode": {
    "name": "ipython",
    "version": 3
   },
   "file_extension": ".py",
   "mimetype": "text/x-python",
   "name": "python",
   "nbconvert_exporter": "python",
   "pygments_lexer": "ipython3",
   "version": "3.7.3"
  },
  "toc": {
   "base_numbering": 1,
   "nav_menu": {
    "height": "251px",
    "width": "368px"
   },
   "number_sections": true,
   "sideBar": true,
   "skip_h1_title": false,
   "title_cell": "Table of Contents",
   "title_sidebar": "Contents",
   "toc_cell": false,
   "toc_position": {},
   "toc_section_display": true,
   "toc_window_display": false
  },
  "varInspector": {
   "cols": {
    "lenName": 16,
    "lenType": 16,
    "lenVar": 40
   },
   "kernels_config": {
    "python": {
     "delete_cmd_postfix": "",
     "delete_cmd_prefix": "del ",
     "library": "var_list.py",
     "varRefreshCmd": "print(var_dic_list())"
    },
    "r": {
     "delete_cmd_postfix": ") ",
     "delete_cmd_prefix": "rm(",
     "library": "var_list.r",
     "varRefreshCmd": "cat(var_dic_list()) "
    }
   },
   "types_to_exclude": [
    "module",
    "function",
    "builtin_function_or_method",
    "instance",
    "_Feature"
   ],
   "window_display": false
  }
 },
 "nbformat": 4,
 "nbformat_minor": 2
}
